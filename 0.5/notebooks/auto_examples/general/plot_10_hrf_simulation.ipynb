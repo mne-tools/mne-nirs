{
  "cells": [
    {
      "cell_type": "code",
      "execution_count": null,
      "metadata": {
        "collapsed": false
      },
      "outputs": [],
      "source": [
        "%matplotlib inline"
      ]
    },
    {
      "cell_type": "markdown",
      "metadata": {},
      "source": [
        "\n\n# GLM Analysis (Simulated)\n\nIn this example we simulate a block design\nfunctional near-infrared spectroscopy (fNIRS)\nexperiment and analyse\nthe simulated signal. We investigate the effect additive noise and\nmeasurement length has on response amplitude estimates.\n   :depth: 2\n"
      ]
    },
    {
      "cell_type": "code",
      "execution_count": null,
      "metadata": {
        "collapsed": false
      },
      "outputs": [],
      "source": [
        "# sphinx_gallery_thumbnail_number = 3\n\n# Authors: Robert Luke <mail@robertluke.net>\n#\n# License: BSD (3-clause)\n\nimport mne\nimport mne_nirs\nimport matplotlib.pylab as plt\nimport numpy as np\nfrom mne_nirs.experimental_design import make_first_level_design_matrix\nfrom mne_nirs.statistics import run_glm\nfrom nilearn.plotting import plot_design_matrix\nnp.random.seed(1)"
      ]
    },
    {
      "cell_type": "markdown",
      "metadata": {},
      "source": [
        "## Simulate noise free NIRS data\n\nFirst we simulate some noise free data. We simulate 5 minutes of data with a\nblock design. The inter stimulus interval of the stimuli is uniformly\nselected between 15 and 45 seconds.\nThe amplitude of the simulated signal is 4 uMol and the sample rate is 3 Hz.\nThe simulated signal is plotted below.\n\n"
      ]
    },
    {
      "cell_type": "code",
      "execution_count": null,
      "metadata": {
        "collapsed": false
      },
      "outputs": [],
      "source": [
        "sfreq = 3.\namp = 4.\n\nraw = mne_nirs.simulation.simulate_nirs_raw(\n    sfreq=sfreq, sig_dur=60 * 5, amplitude=amp, isi_min=15., isi_max=45.)\nraw.plot(duration=300, show_scrollbars=False)"
      ]
    },
    {
      "cell_type": "markdown",
      "metadata": {},
      "source": [
        "## Create design matrix\n\nNext we create a design matrix based on the annotation times in the simulated\ndata. We use the nilearn plotting function to visualise the design matrix.\nFor more details on this procedure see `tut-fnirs-hrf`.\n\n"
      ]
    },
    {
      "cell_type": "code",
      "execution_count": null,
      "metadata": {
        "collapsed": false
      },
      "outputs": [],
      "source": [
        "design_matrix = make_first_level_design_matrix(raw, stim_dur=5.0,\n                                               drift_order=1,\n                                               drift_model='polynomial')\nfig, ax1 = plt.subplots(figsize=(10, 6), nrows=1, ncols=1)\nfig = plot_design_matrix(design_matrix, ax=ax1)"
      ]
    },
    {
      "cell_type": "markdown",
      "metadata": {},
      "source": [
        "## Estimate response on clean data\n\nHere we run the GLM analysis on the clean data.\nThe design matrix had three columns, so we get an estimate for our simulated\nevent, the first order drift, and the constant.\nWe see that the estimate of the first component is 4e-6 (4 uM),\nwhich was the amplitude we used in the simulation.\nWe also see that the mean square error of the model fit is close to zero.\n\n"
      ]
    },
    {
      "cell_type": "code",
      "execution_count": null,
      "metadata": {
        "collapsed": false
      },
      "outputs": [],
      "source": [
        "glm_est = run_glm(raw, design_matrix)\n\n\ndef print_results(glm_est, truth):\n    \"\"\"Function to print the results of GLM estimate\"\"\"\n    print(\"Estimate:\", glm_est.theta()[0][0],\n          \"  MSE:\", glm_est.MSE()[0],\n          \"  Error (uM):\", 1e6*(glm_est.theta()[0][0] - truth * 1e-6))\n\nprint_results(glm_est, amp)"
      ]
    },
    {
      "cell_type": "markdown",
      "metadata": {},
      "source": [
        "## Simulate noisy NIRS data (white)\n\nReal data has noise. Here we add white noise, this noise is not realistic\nbut serves as a reference point for evaluating the estimation process.\nWe run the GLM analysis exactly as in the previous section\nand plot the noisy data and the GLM fitted model.\nWe print the response estimate and see that is close, but not exactly correct,\nwe observe the mean square error is similar to the added noise.\nNote that the clean data plot is so similar to the GLM estimate that it is hard to see unless zoomed in. \n\n"
      ]
    },
    {
      "cell_type": "code",
      "execution_count": null,
      "metadata": {
        "collapsed": false
      },
      "outputs": [],
      "source": [
        "# First take a copy of noise free data for comparison\nraw_noise_free = raw.copy()\n\nraw._data += np.random.normal(0, np.sqrt(1e-11), raw._data.shape)\nglm_est = run_glm(raw, design_matrix)\n\nplt.plot(raw.times, raw_noise_free.get_data().T * 1e6)\nplt.plot(raw.times, raw.get_data().T * 1e6, alpha=0.3)\nplt.plot(raw.times, glm_est.theta()[0][0] * design_matrix[\"A\"].values * 1e6)\nplt.xlabel(\"Time (s)\")\nplt.ylabel(\"Haemoglobin (uM)\")\nplt.legend([\"Clean Data\", \"Noisy Data\", \"GLM Estimate\"])\n\nprint_results(glm_est, amp)"
      ]
    },
    {
      "cell_type": "markdown",
      "metadata": {},
      "source": [
        "## Simulate noisy NIRS data (colored)\n\nHere we add colored noise which better matches what is seen with real data.\nAgain, the same GLM procedure is run.\nThe estimate is reported below, and even though the signal was difficult to\nobserve in the raw data, the GLM analysis has extracted an accurate estimate.\nHowever, the error is greater for the colored than white noise.\n\n"
      ]
    },
    {
      "cell_type": "code",
      "execution_count": null,
      "metadata": {
        "collapsed": false
      },
      "outputs": [],
      "source": [
        "raw = raw_noise_free.copy()\ncov = mne.Covariance(np.ones(1) * 1e-11, raw.ch_names,\n                     raw.info['bads'], raw.info['projs'], nfree=0)\nraw = mne.simulation.add_noise(raw, cov,\n                               iir_filter=[1., -0.58853134, -0.29575669,\n                                           -0.52246482, 0.38735476,\n                                           0.02428681])\ndesign_matrix = make_first_level_design_matrix(raw, stim_dur=5.0,\n                                               drift_order=1,\n                                               drift_model='polynomial')\nglm_est = run_glm(raw, design_matrix)\n\nplt.plot(raw.times, raw_noise_free.get_data().T * 1e6)\nplt.plot(raw.times, raw.get_data().T * 1e6, alpha=0.3)\nplt.plot(raw.times, glm_est.theta()[0][0] * design_matrix[\"A\"].values * 1e6)\nplt.xlabel(\"Time (s)\")\nplt.ylabel(\"Haemoglobin (uM)\")\nplt.legend([\"Clean Data\", \"Noisy Data\", \"GLM Estimate\"])\n\nprint_results(glm_est, amp)"
      ]
    },
    {
      "cell_type": "markdown",
      "metadata": {},
      "source": [
        "## How does increasing the measurement length affect estimation accuracy?\n\nThe easiest way to reduce error in your response estimate is to collect more\ndata. Here we simulated increasing the recording time to 30 minutes.\nWe run the same analysis and observe that the error is reduced from\napproximately 0.6 uM for 5 minutes of data to 0.25 uM for 30 minutes of data.\n\n"
      ]
    },
    {
      "cell_type": "code",
      "execution_count": null,
      "metadata": {
        "collapsed": false
      },
      "outputs": [],
      "source": [
        "raw = mne_nirs.simulation.simulate_nirs_raw(\n    sfreq=sfreq, sig_dur=60 * 30, amplitude=amp, isi_min=15., isi_max=45.)\ncov = mne.Covariance(np.ones(1) * 1e-11, raw.ch_names,\n                     raw.info['bads'], raw.info['projs'], nfree=0)\nraw = mne.simulation.add_noise(raw, cov,\n                               iir_filter=[1., -0.58853134, -0.29575669,\n                                           -0.52246482, 0.38735476,\n                                           0.02428681])\n\ndesign_matrix = make_first_level_design_matrix(raw, stim_dur=5.0,\n                                               drift_order=1,\n                                               drift_model='polynomial')\nglm_est = run_glm(raw, design_matrix)\n\nplt.plot(raw.times, raw.get_data().T * 1e6, alpha=0.3)\nplt.plot(raw.times, glm_est.theta()[0][0] * design_matrix[\"A\"].values * 1e6)\nplt.xlabel(\"Time (s)\")\nplt.ylabel(\"Haemoglobin (uM)\")\nplt.legend([\"Noisy Data\", \"GLM Estimate\"])\n\nprint_results(glm_est, amp)"
      ]
    },
    {
      "cell_type": "markdown",
      "metadata": {},
      "source": [
        "## Using autoregressive models in the GLM to account for noise structure\n\nAn auto regressive noise model can be used account for temporal structure\nin the noise. To account for the noise properties in the example above,\na fifth order auto regressive model is used below. Given this\nis a simulation, we can verify if the correct estimate of the noise\nproperties was extracted from the data and if this\nimproved the response estimate.\n\n"
      ]
    },
    {
      "cell_type": "code",
      "execution_count": null,
      "metadata": {
        "collapsed": false
      },
      "outputs": [],
      "source": [
        "glm_est = run_glm(raw, design_matrix, noise_model='ar5')\n\nfig, axes = plt.subplots(nrows=1, ncols=1, figsize=(15, 6))\nplt.plot([-0.58853134, -0.29575669, -0.52246482, 0.38735476, 0.02428681],\n         axes=axes)  # actual values from model above\nplt.plot(glm_est.model()[0].rho * -1.0,  axes=axes)  # estimates\nplt.legend([\"Simulation AR coefficients\", \"Estimated AR coefficients\"])\nplt.xlabel(\"Coefficient\")"
      ]
    },
    {
      "cell_type": "markdown",
      "metadata": {},
      "source": [
        "We can see that the estimates from the GLM AR model are quite accurate,\nbut how does this affect the accuracy of the response estimate?\n\n"
      ]
    },
    {
      "cell_type": "code",
      "execution_count": null,
      "metadata": {
        "collapsed": false
      },
      "outputs": [],
      "source": [
        "print_results(glm_est, amp)"
      ]
    },
    {
      "cell_type": "markdown",
      "metadata": {},
      "source": [
        "The response estimate using the AR(5) model is more accurate than the\nAR(1) model (error of 0.25 vs 2.8 uM).\n\n"
      ]
    },
    {
      "cell_type": "markdown",
      "metadata": {},
      "source": [
        "## Conclusion?\n\nIn this example we have generated a noise free signal containing simulated\nhaemodynamic responses. We were then able to accurately estimate the amplitude\nof the simulated signal. We then added noise and illustrated that the\nestimate provided by the GLM was correct, but contained some error. We\nobserved that as the measurement time was increased, the estimated\nerror decreased.\nWe also observed in this idealised example that including an appropriate\nmodel of the noise can improve the accuracy of the response estimate.\n\n"
      ]
    }
  ],
  "metadata": {
    "kernelspec": {
      "display_name": "Python 3",
      "language": "python",
      "name": "python3"
    },
    "language_info": {
      "codemirror_mode": {
        "name": "ipython",
        "version": 3
      },
      "file_extension": ".py",
      "mimetype": "text/x-python",
      "name": "python",
      "nbconvert_exporter": "python",
      "pygments_lexer": "ipython3",
      "version": "3.8.0"
    }
  },
  "nbformat": 4,
  "nbformat_minor": 0
}