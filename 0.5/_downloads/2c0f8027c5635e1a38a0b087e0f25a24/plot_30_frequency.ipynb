{
  "cells": [
    {
      "cell_type": "code",
      "execution_count": null,
      "metadata": {
        "collapsed": false
      },
      "outputs": [],
      "source": [
        "%matplotlib inline"
      ]
    },
    {
      "cell_type": "markdown",
      "metadata": {},
      "source": [
        "\n\n# Frequency and Filter Commentary\n\nIn this example we discuss frequency and filters in the context\nof\nfunctional near-infrared spectroscopy (fNIRS)\nanalysis.\nWe examine the interplay between the expected brain response based\non experimental design and our model of how the brain reacts to stimuli,\nthe actual data measured during an experiment, and the filtering\nthat is applied to the data.\n   :depth: 2\n"
      ]
    },
    {
      "cell_type": "code",
      "execution_count": null,
      "metadata": {
        "collapsed": false
      },
      "outputs": [],
      "source": [
        "# Authors: Robert Luke <mail@robertluke.net>\n#\n# License: BSD (3-clause)\n\nimport os\nimport mne\nimport mne_nirs\nimport numpy as np\nimport matplotlib.pyplot as plt\nfrom mne_nirs.experimental_design import make_first_level_design_matrix\nfrom mne_nirs.simulation import simulate_nirs_raw"
      ]
    },
    {
      "cell_type": "markdown",
      "metadata": {},
      "source": [
        "## Import and preprocess data\n\nWe read in the data, annotate the triggers, remove the control condition,\nconvert to haemoglobin concentration.\n\nThis code is similar to the first sections in the MNE tutorial,\nso will not be described in detail here.\nPlease see the\n`MNE documentation <mne:tut-fnirs-processing>`.\nfor a detailed introduction to processing NIRS with MNE.\n\n"
      ]
    },
    {
      "cell_type": "code",
      "execution_count": null,
      "metadata": {
        "collapsed": false
      },
      "outputs": [],
      "source": [
        "fnirs_data_folder = mne.datasets.fnirs_motor.data_path()\nfnirs_raw_dir = os.path.join(fnirs_data_folder, 'Participant-1')\nraw_intensity = mne.io.read_raw_nirx(fnirs_raw_dir,\n                                     verbose=True).load_data()\nnew_des = [des for des in raw_intensity.annotations.description]\nnew_des = ['Control' if x == \"1.0\" else x for x in new_des]\nnew_des = ['Tapping_Left' if x == \"2.0\" else x for x in new_des]\nnew_des = ['Tapping_Right' if x == \"3.0\" else x for x in new_des]\nannot = mne.Annotations(raw_intensity.annotations.onset,\n                        raw_intensity.annotations.duration * 5., new_des)\nraw_intensity.set_annotations(annot)\nraw_intensity.crop(60, 2967)\nraw_intensity.annotations.delete(\n    np.where([d == 'Control' for d in raw_intensity.annotations.description]))\n\nraw_od = mne.preprocessing.nirs.optical_density(raw_intensity)\nraw_haemo = mne.preprocessing.nirs.beer_lambert_law(raw_od, ppf=0.1)\nraw_haemo = mne_nirs.channels.get_long_channels(raw_haemo)"
      ]
    },
    {
      "cell_type": "markdown",
      "metadata": {},
      "source": [
        "## Model neural response\n\nWe know the when each stimulus was presented to the lister (see Annotations)\nand we have a model of how we expect the brain to react to each\nstimulus presentation\n(https://en.wikipedia.org/wiki/Haemodynamic_response).\nFrom this information we can build a model of how we expect the brain\nto be active during this experiment.\nSee `tut-fnirs-hrf` for more details on this analysis.\n\nHere we create the expected model neural response function using the data\nand plot the frequency spectrum.\n\nWe note there is a peak at 0.03 which corresponds approximately to\nthe repetition rate of the experiment.\n\n"
      ]
    },
    {
      "cell_type": "code",
      "execution_count": null,
      "metadata": {
        "collapsed": false
      },
      "outputs": [],
      "source": [
        "design_matrix = make_first_level_design_matrix(\n    raw_haemo, drift_order=0, stim_dur=5.)\n\n# This is a bit of a hack.\n# Overwrite the first NIRS channel with the expected response.\n# Rescale to be in expected units of uM.\nhrf = raw_haemo.copy().pick(picks=[0])\nhrf._data[0] = 1e-6 * (design_matrix['Tapping_Left'] +\n                       design_matrix['Tapping_Right']).T\nhrf.pick(picks='hbo').plot_psd(average=True, fmax=2, xscale='log',\n                               color='r', show=False)"
      ]
    },
    {
      "cell_type": "markdown",
      "metadata": {},
      "source": [
        "## Plot raw measured data\n\nNext we plot the PSD of the raw data.\n\nNote the increased activity around 1 Hz, this is the heart rate.\nWe also see an increase in activity around 0.1 Hz, this is likely\nMayer waves (https://en.wikipedia.org/wiki/Mayer_waves).\nThere is also a small bump around 0.3 Hz that is likely the breathing rate.\n\n"
      ]
    },
    {
      "cell_type": "code",
      "execution_count": null,
      "metadata": {
        "collapsed": false
      },
      "outputs": [],
      "source": [
        "# TODO: I would like to find a nicer way to fit everything in one plot.\n# Could I use a left y axis for the real data?\n#\n# TODO: Find a way not to have to rescale the data to fit in plot\n\n# rescale data to fit in plot. TODO: fix this\nraw_haemo._data = raw_haemo._data * 1e-2\nraw_haemo.pick(picks='hbo').plot_psd(average=True, fmax=2, xscale='log')"
      ]
    },
    {
      "cell_type": "markdown",
      "metadata": {},
      "source": [
        "## Plot epoched data\n\nNext we plot the PSD of the epoched data.\n\nThe act of averaging the epochs removes some of the systemic components that\nare not time locked to the stimulus. However, the large heart rate component\nis still visible.\n\n"
      ]
    },
    {
      "cell_type": "code",
      "execution_count": null,
      "metadata": {
        "collapsed": false
      },
      "outputs": [],
      "source": [
        "events, _ = mne.events_from_annotations(raw_haemo)\nevent_dict = {'Tapping_Left': 1, 'Tapping_Right': 2}\nreject_criteria = dict(hbo=120e-6)\ntmin, tmax = -5, 15\nepochs = mne.Epochs(raw_haemo, events, event_id=event_dict,\n                    tmin=tmin, tmax=tmax,\n                    reject=reject_criteria, reject_by_annotation=True,\n                    proj=True, baseline=(None, 0), preload=True,\n                    detrend=None, verbose=True)\n\nepochs.pick(picks='hbo').plot_psd(average=True, fmax=2,\n                                  color='g', xscale='log')"
      ]
    },
    {
      "cell_type": "markdown",
      "metadata": {},
      "source": [
        "## Plot filter response\n\nNext we plot the filter response.\nFor an introduction to filtering see\nhttps://mne.tools/stable/auto_tutorials/discussions/plot_background_filtering.html\n\nThis filter will be designed to remove the heart rate component that remained\nafter epoching.\n\n"
      ]
    },
    {
      "cell_type": "code",
      "execution_count": null,
      "metadata": {
        "collapsed": false
      },
      "outputs": [],
      "source": [
        "filter_params = mne.filter.create_filter(\n    raw_haemo.get_data(), raw_haemo.info['sfreq'],\n    l_freq=None, h_freq=0.4, h_trans_bandwidth=0.2)\n\nmne.viz.plot_filter(filter_params, raw_haemo.info['sfreq'],\n                    flim=(0.005, 2), fscale='log', gain=False,\n                    plot='magnitude')"
      ]
    },
    {
      "cell_type": "markdown",
      "metadata": {},
      "source": [
        "## Discussion\n\nFinally we overlay all lines on the same figure to see how the\ndifferent components relate.\n\nFirst, note that the filter cutoff above 0.4 Hz attenuates\nthe unwanted heart rate component which is situated around 1 Hz.\n\nNext we observe in the measured data that the Mayer waves\nsituated around 0.1 Hz are in the same range as\nthe expected peak in the model response.\nFor this reason the filter does not attenuate these frequencies.\nHowever, as the experiment was designed with a randomised inter\nstimulus interval the act of epoching and averaging the data\nremoves these unwanted components and they are not visible in the\nepoched data.\n\n"
      ]
    },
    {
      "cell_type": "code",
      "execution_count": null,
      "metadata": {
        "collapsed": false
      },
      "outputs": [],
      "source": [
        "fig = hrf.pick(picks='hbo').plot_psd(average=True, fmax=2,\n                                     color='r', show=False)\nraw_haemo.pick(picks='hbo').plot_psd(average=True, fmax=2,\n                                     ax=fig.axes, show=False)\nepochs.pick(picks='hbo').plot_psd(average=True, fmax=2, ax=fig.axes,\n                                  show=False, color='g')\nmne.viz.plot_filter(filter_params, raw_haemo.info['sfreq'],\n                    flim=(0.005, 2), fscale='log', gain=False,\n                    plot='magnitude', axes=fig.axes, show=False)\n\nleg_lines = [line for line in fig.axes[0].lines if line.get_linestyle() == '-']\nfig.legend(leg_lines, ['Model Response', 'Measured Data',\n                       'Epoched Data', 'Filter Response'],\n                       loc=\"lower left\", bbox_to_anchor=(0.15, 0.2))\nfig.axes[0].set_ylabel('Filter Magnitude (dB) [invalid for other lines]')\nfig.axes[0].set_title('')"
      ]
    },
    {
      "cell_type": "markdown",
      "metadata": {},
      "source": [
        "## Filter Neural Signal\n\nThe effect of filtering on the neural signal is demonstrated below.\nThe green line illustrates the signal before filtering, and the red line\nshows the signal after filtering.\n\n"
      ]
    },
    {
      "cell_type": "code",
      "execution_count": null,
      "metadata": {
        "collapsed": false
      },
      "outputs": [],
      "source": [
        "fig = raw_haemo.plot_psd(average=True, fmax=2, xscale='log', color='r', show=False)\nraw_haemo = raw_haemo.filter(l_freq=None, h_freq=0.4, h_trans_bandwidth=0.2)\nraw_haemo.plot_psd(average=True, fmax=2, xscale='log', ax=fig.axes, color='g')"
      ]
    },
    {
      "cell_type": "markdown",
      "metadata": {},
      "source": [
        "## Understanding the relation between stimulus presentation and response\n\nHere we look at the effect of the interstimulus interval on the\nexpected haemodynamic response. We choose a few different\nmaximum and minimum\nvalues for the ISI. Two repeats are plotted per\nISI to illustrate the random selection.\nSome common high pass filter values from literature are shown in red.\n\n"
      ]
    },
    {
      "cell_type": "code",
      "execution_count": null,
      "metadata": {
        "collapsed": false
      },
      "outputs": [],
      "source": [
        "sm = plt.cm.ScalarMappable(cmap='viridis', norm=plt.Normalize(vmin=0, vmax=60))\nfig, axes = plt.subplots(nrows=2, ncols=2, figsize=(20, 10))\nfor rep in range(2):\n    for column, min_isi in enumerate([0, 15]):\n        for row, max_isi in enumerate([15, 30, 45, 60]):\n            if max_isi >= min_isi:\n                 raw = simulate_nirs_raw(sfreq=4., sig_dur=60 * 60,\n                                         amplitude=1., stim_dur=5.,\n                                         isi_min=min_isi, isi_max=max_isi)\n                 raw._data[0] = raw._data[0] - np.mean(raw._data[0])\n                 raw.pick(picks='hbo').plot_psd(\n                     average=True, fmax=2, ax=axes[rep, column],\n                     show=False, color=sm.cmap(sm.norm(max_isi)),\n                     xscale='log')\n                 axes[rep, column].set_ylim(-60, 20)\n                 axes[rep, column].set_title('ISI: {} (s) to Max ISI'.\n                                             format(min_isi))\n                 for filt in [0.01, 0.02, 0.05]:\n                     axes[rep, column].axvline(x=filt,\n                                               linestyle=\":\", color='red')\n        axes[1, column].set_xlabel(\"Frequency (Hz)\")\n    plt.colorbar(sm, ax=axes[rep, 1], label='Max ISI (s)')"
      ]
    }
  ],
  "metadata": {
    "kernelspec": {
      "display_name": "Python 3",
      "language": "python",
      "name": "python3"
    },
    "language_info": {
      "codemirror_mode": {
        "name": "ipython",
        "version": 3
      },
      "file_extension": ".py",
      "mimetype": "text/x-python",
      "name": "python",
      "nbconvert_exporter": "python",
      "pygments_lexer": "ipython3",
      "version": "3.8.0"
    }
  },
  "nbformat": 4,
  "nbformat_minor": 0
}