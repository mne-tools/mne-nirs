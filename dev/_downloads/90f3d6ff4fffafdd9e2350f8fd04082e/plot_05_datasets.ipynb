{
  "cells": [
    {
      "cell_type": "markdown",
      "metadata": {},
      "source": [
        "\n\n# Example Datasets\n\nTo get you up and running with MNE-NIRS and fNIRS data analysis we provide\nsome example datasets.\nEach dataset is published and if you use the data at any stage of\nyour experiment (including piloting and exploration) then please cite the\nauthors of the data.\n\nA brief explanation of each dataset is provided below, and a demonstration\nof how to download the data and address it with MNE.\nEach dataset is provided in BIDs format, as such we can use the MNE-BIDS\npackage to quickly report the number of trials for each condition in the\ndataset.\n"
      ]
    },
    {
      "cell_type": "code",
      "execution_count": null,
      "metadata": {
        "collapsed": false
      },
      "outputs": [],
      "source": [
        "# sphinx_gallery_thumbnail_number = 1\n\n# Authors: Robert Luke <mail@robertluke.net>\n#\n# License: BSD (3-clause)\n\nimport mne_bids.stats\n\nimport mne_nirs"
      ]
    },
    {
      "cell_type": "markdown",
      "metadata": {},
      "source": [
        "## Finger Tapping Data\n\nThis data is from the publication\n:footcite:p:`Luke_fNIRS_Finger_Tapping_2021`.\nThis data provides an example of the canonical finger tapping experiment.\nData is provided from five participants. The experiment was a block design\nwith three conditions. The first condition consisted of the participants\ntapping their thumb to fingers on the left hand, the second condition was the\nsame but with the right hand. The final condition was a control, with no\nmotor task.\n\n"
      ]
    },
    {
      "cell_type": "code",
      "execution_count": null,
      "metadata": {
        "collapsed": false
      },
      "outputs": [],
      "source": [
        "datapath = mne_nirs.datasets.fnirs_motor_group.data_path()\nmne_bids.stats.count_events(datapath)"
      ]
    },
    {
      "cell_type": "markdown",
      "metadata": {},
      "source": [
        "## Auditory Speech and Noise\n\nThis data is from the publication\n:footcite:p:`luke2021analysis`.\nIn this experiment listeners were presented with auditory stimuli via insertphones.\nData is provided from seventeen participants. The experiment was a block\ndesign with three conditions. The first condition consisted of speech,\nthe second condition consisted of low frequency noise.\nThe final condition was a control, no audio was presented to the listeners.\n\n"
      ]
    },
    {
      "cell_type": "code",
      "execution_count": null,
      "metadata": {
        "collapsed": false
      },
      "outputs": [],
      "source": [
        "datapath = mne_nirs.datasets.block_speech_noise.data_path()\nmne_bids.stats.count_events(datapath)"
      ]
    },
    {
      "cell_type": "markdown",
      "metadata": {},
      "source": [
        "## Audio or Visual Speech\n\nThis data is from the publication\n:footcite:p:`shader2021use`.\nIn this experiment participants were presented a continuously running story\nin blocked segments. Each segment was presented as either audio only\nor visual only.\nIn addition to the audio visual stimuli, a control condition was also\npresented randomly throughout the experiment.\n\n"
      ]
    },
    {
      "cell_type": "code",
      "execution_count": null,
      "metadata": {
        "collapsed": false
      },
      "outputs": [],
      "source": [
        "datapath = mne_nirs.datasets.audio_or_visual_speech.data_path()\nmne_bids.stats.count_events(datapath)"
      ]
    },
    {
      "cell_type": "markdown",
      "metadata": {},
      "source": [
        "### Bibliography\n\n.. footbibliography::\n\n"
      ]
    }
  ],
  "metadata": {
    "kernelspec": {
      "display_name": "Python 3",
      "language": "python",
      "name": "python3"
    },
    "language_info": {
      "codemirror_mode": {
        "name": "ipython",
        "version": 3
      },
      "file_extension": ".py",
      "mimetype": "text/x-python",
      "name": "python",
      "nbconvert_exporter": "python",
      "pygments_lexer": "ipython3",
      "version": "3.10.12"
    }
  },
  "nbformat": 4,
  "nbformat_minor": 0
}