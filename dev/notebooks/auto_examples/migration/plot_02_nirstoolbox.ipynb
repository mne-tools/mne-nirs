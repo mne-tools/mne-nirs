{
  "cells": [
    {
      "cell_type": "markdown",
      "metadata": {},
      "source": [
        "\n\n# Migrating from nirs-toolbox to MNE\n\nThis tutorial will demonstrate how to do convert a nirs-toolbox script to MNE\nand highlight differences and common issues you may encounter.\n\nnirs-toolbox is a MATLAB based software analysis\npackage. https://github.com/huppertt/nirs-toolbox\n\n\n# Basic nirs-toolbox script to be reproduced in MNE\n\nBelow is a common example analysis performed in nirs-toolbox.\nThe NIRx data is loaded and trigger names are modified.\nThen the intensity signal is convert to optical density then\nconverted to haemoglobin concentration.\nAfter which, a GLM analysis is performed with iteratively reweighted\nautoregressive noise model.\nFinally a mixed effects model is run on the group level dat.\n\n\n```matlab\n# Load data\nraw = nirs.io.loadDirectory()\n\n# Preprocess data\npipeline_preprocess = nirs.modules.RenameStims(pipeline_preprocess);\npipeline_preprocess.listOfChanges = {\n 'channel_1', 'Control';\n 'channel_2', 'Condition1';\n 'channel_3', 'Condition2'};\npipeline_preprocess = nirs.modules.DiscardStims(pipeline_preprocess);\nraw = pipeline_preprocess.run(raw);\n\n# Analyse data\npipeline = nirs.modules.Resample();                     pipeline.Fs = 3;\npipeline = nirs.modules.OpticalDensity(pipeline);\npipeline = nirs.modules.BeerLambertLaw(pipeline);\npipeline = nirs.modules.AR_IRLS(pipeline);\nsubj_stats = pipeline.run(raw);\n\n# Group level analysis\npipeline = nirs.modules.MixedEffects();\npipeline.formula = 'beta ~ -1 + cond + (1|Name)';\ngroup_stats = pipeline.run(subj_stats);\n:depth: 2\n```\n"
      ]
    },
    {
      "cell_type": "markdown",
      "metadata": {},
      "source": [
        "# MNE equivalent of nirs-toolbox script\n\nThe MNE equivalent of this analysis is well described\nin `the group level tutorial <tut-fnirs-group>`.\n\nSo this page will focus on the differences between the two approaches.\n\n"
      ]
    },
    {
      "cell_type": "markdown",
      "metadata": {},
      "source": [
        "## Differences between toolboxes\n\nMNE does not have iterative reweighting of the noise estimate\nin the GLM analysis.\n\n"
      ]
    },
    {
      "cell_type": "markdown",
      "metadata": {},
      "source": [
        "## Further analysis details\n\nIf there is useful processing in the nirs-toolbox\nthat is not available in MNE\nplease let us know by creating an issue at\nhttps://github.com/mne-tools/mne-nirs/issues\n\n"
      ]
    }
  ],
  "metadata": {
    "kernelspec": {
      "display_name": "Python 3",
      "language": "python",
      "name": "python3"
    },
    "language_info": {
      "codemirror_mode": {
        "name": "ipython",
        "version": 3
      },
      "file_extension": ".py",
      "mimetype": "text/x-python",
      "name": "python",
      "nbconvert_exporter": "python",
      "pygments_lexer": "ipython3",
      "version": "3.10.12"
    }
  },
  "nbformat": 4,
  "nbformat_minor": 0
}