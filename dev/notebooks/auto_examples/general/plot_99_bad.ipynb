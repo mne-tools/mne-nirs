{
  "cells": [
    {
      "cell_type": "markdown",
      "metadata": {},
      "source": [
        "\n\n# Importance of Controls and Parameter Selection\n\n<div class=\"alert alert-danger\"><h4>Warning</h4><p>DO NOT USE THIS SCRIPT TO PROCESS YOUR DATA</p></div>\n\n.. sidebar:: Relevant literature\n\n   Huppert TJ. Commentary on the statistical properties of noise and its\n   implication on general linear models in functional near-infrared\n   spectroscopy. Neurophotonics. 2016;3(1)\n\nThis tutorial demonstrates how **NOT** to process your\nfunctional near-infrared spectroscopy (fNIRS)\ndata.\nHere I demonstrate that with a simple process pipelines even random noise\ncan look like a canonical haemodynamic response.\n\nThis tutorial was written to motivate further interest in to what affect\nsignal processing has on our data. And to provide a concrete example\nabout why you should understand your analysis and not vary parameters to meet\npreconceived ideas of what your data should look like.\nI recommend specifying analysis parameters in advance along with your experimental\nprotocol. Hopefully this tutorial also highlights the importance of\nincluding a control condition in your experimental design.\n\nThe\n`MNE fNIRS waveform tutorial <mne:tut-fnirs-processing>`\nis used as a basis for this analysis, so most of the document looks similar.\nHowever, at the midpoint we replace the real data with noise and demonstrate\nthat without careful attention to the analysis parameter it would still\nappear as if a fNIRS response is observed.\n   :depth: 2\n"
      ]
    },
    {
      "cell_type": "code",
      "execution_count": null,
      "metadata": {
        "collapsed": false
      },
      "outputs": [],
      "source": [
        "# sphinx_gallery_thumbnail_number = 7\n\n\n# Authors: Robert Luke <mail@robertluke.net>\n#\n# License: BSD (3-clause)\n\nimport os\nimport numpy as np\n\nimport mne\nimport mne_nirs\nnp.random.seed(1)\n\nfnirs_data_folder = mne.datasets.fnirs_motor.data_path()\nfnirs_cw_amplitude_dir = os.path.join(fnirs_data_folder, 'Participant-1')\nraw_intensity = mne.io.read_raw_nirx(fnirs_cw_amplitude_dir, verbose=True)\nraw_intensity.load_data()"
      ]
    },
    {
      "cell_type": "markdown",
      "metadata": {},
      "source": [
        "## Selecting channels appropriate for detecting neural responses\n\nFirst we remove channels that are too close together (short channels) to\ndetect a neural response (less than 1 cm distance between optodes).\nThese short channels can be seen in the figure above.\nTo achieve this we pick all the channels that are not considered to be short.\n\n"
      ]
    },
    {
      "cell_type": "code",
      "execution_count": null,
      "metadata": {
        "collapsed": false
      },
      "outputs": [],
      "source": [
        "picks = mne.pick_types(raw_intensity.info, meg=False, fnirs=True)\ndists = mne.preprocessing.nirs.source_detector_distances(\n    raw_intensity.info, picks=picks)\nraw_intensity.pick(picks[dists > 0.01])\nraw_intensity.plot(n_channels=len(raw_intensity.ch_names),\n                   duration=500, show_scrollbars=False)"
      ]
    },
    {
      "cell_type": "markdown",
      "metadata": {},
      "source": [
        "## Converting from raw intensity to optical density\n\nThe raw intensity values are then converted to optical density.\n\n"
      ]
    },
    {
      "cell_type": "code",
      "execution_count": null,
      "metadata": {
        "collapsed": false
      },
      "outputs": [],
      "source": [
        "raw_od = mne.preprocessing.nirs.optical_density(raw_intensity)\nraw_od.plot(n_channels=len(raw_od.ch_names),\n            duration=500, show_scrollbars=False)"
      ]
    },
    {
      "cell_type": "markdown",
      "metadata": {},
      "source": [
        "## Converting from optical density to haemoglobin\n\nNext we convert the optical density data to haemoglobin concentration using\nthe modified Beer-Lambert law.\n\n"
      ]
    },
    {
      "cell_type": "code",
      "execution_count": null,
      "metadata": {
        "collapsed": false
      },
      "outputs": [],
      "source": [
        "raw_haemo = mne.preprocessing.nirs.beer_lambert_law(raw_od, ppf=0.1)\nraw_haemo.plot(n_channels=len(raw_haemo.ch_names),\n               duration=500, show_scrollbars=False)"
      ]
    },
    {
      "cell_type": "markdown",
      "metadata": {},
      "source": [
        "## !!!!!!Replace real data with white noise!!!!!\n\nHere we replace the signals with white noise.\nWe make the HbR white noise 3 time smaller than HbO as is commonly observed.\n\n"
      ]
    },
    {
      "cell_type": "code",
      "execution_count": null,
      "metadata": {
        "collapsed": false
      },
      "outputs": [],
      "source": [
        "raw_haemo._data = np.random.randn(40, 23239) / 1.0e6 * 1\nraw_haemo._data[::2, :]= np.random.randn(20, 23239) / 1.0e6 * 3"
      ]
    },
    {
      "cell_type": "markdown",
      "metadata": {},
      "source": [
        "## Removing heart rate from signal (BAD DONT COPY)\n\nThis analysis is BAD and is provided just as a demonstration.\nDo not do this!!\n\n\n"
      ]
    },
    {
      "cell_type": "code",
      "execution_count": null,
      "metadata": {
        "collapsed": false
      },
      "outputs": [],
      "source": [
        "fig = raw_haemo.plot_psd(average=True)\nfig.suptitle('Before filtering', weight='bold', size='x-large')\nraw_haemo = raw_haemo.filter(0.05, 0.1, h_trans_bandwidth=0.2,\n                             l_trans_bandwidth=0.02)\nfig = raw_haemo.plot_psd(average=True)\nfig.suptitle('After filtering', weight='bold', size='x-large')"
      ]
    },
    {
      "cell_type": "markdown",
      "metadata": {},
      "source": [
        "## Apply Cui negative correlation method\n\nHere we apply the Cui signal enhancement technique.\n\n"
      ]
    },
    {
      "cell_type": "code",
      "execution_count": null,
      "metadata": {
        "collapsed": false
      },
      "outputs": [],
      "source": [
        "raw_haemo = mne_nirs.signal_enhancement.enhance_negative_correlation(raw_haemo)"
      ]
    },
    {
      "cell_type": "markdown",
      "metadata": {},
      "source": [
        "## Extract epochs\n\nNow that the signal has been converted to relative haemoglobin concentration,\nand the unwanted heart rate component has been removed, we can extract epochs\nrelated to each of the experimental conditions.\n\nFirst we extract the events of interest and visualise them to ensure they are\ncorrect.\n\n"
      ]
    },
    {
      "cell_type": "code",
      "execution_count": null,
      "metadata": {
        "collapsed": false
      },
      "outputs": [],
      "source": [
        "events, _ = mne.events_from_annotations(raw_haemo, event_id={'1.0': 1,\n                                                             '2.0': 2,\n                                                             '3.0': 3})\nevent_dict = {'Control': 1, 'Tapping/Left': 2, 'Tapping/Right': 3}\nfig = mne.viz.plot_events(events, event_id=event_dict,\n                          sfreq=raw_haemo.info['sfreq'])"
      ]
    },
    {
      "cell_type": "markdown",
      "metadata": {},
      "source": [
        "Next we define the range of our epochs, the rejection criteria,\nbaseline correction, and extract the epochs. We visualise the log of which\nepochs were dropped.\n\n"
      ]
    },
    {
      "cell_type": "code",
      "execution_count": null,
      "metadata": {
        "collapsed": false
      },
      "outputs": [],
      "source": [
        "reject_criteria = dict(hbo=10e-6)\ntmin, tmax = -1.5, 10.5\n\nepochs = mne.Epochs(raw_haemo, events, event_id=event_dict,\n                    tmin=tmin, tmax=tmax,\n                    reject=reject_criteria, reject_by_annotation=True,\n                    proj=True, baseline=(None, 0), preload=True,\n                    detrend=1, verbose=True)"
      ]
    },
    {
      "cell_type": "markdown",
      "metadata": {},
      "source": [
        "## Plot standard fNIRS response image\n\nNext we generate the most common visualisation of fNIRS data: plotting\nboth the HbO and HbR on the same figure to illustrate the relation between\nthe two signals.\n\n"
      ]
    },
    {
      "cell_type": "code",
      "execution_count": null,
      "metadata": {
        "collapsed": false
      },
      "outputs": [],
      "source": [
        "evoked_dict = {'Tapping/HbO': epochs['Tapping'].average(picks='hbo'),\n               'Tapping/HbR': epochs['Tapping'].average(picks='hbr')}\n\n# Rename channels until the encoding of frequency in ch_name is fixed\nfor condition in evoked_dict:\n    evoked_dict[condition].rename_channels(lambda x: x[:-4])\n\ncolor_dict = dict(HbO='#AA3377', HbR='b')\n\nmne.viz.plot_compare_evokeds(evoked_dict, combine=\"mean\", ci=0.95,\n                             colors=color_dict)"
      ]
    },
    {
      "cell_type": "markdown",
      "metadata": {},
      "source": [
        "## Summary\n\nAbove is a waveform that has many of the characteristics that are expected\nfrom a haeomodynamic response.\nWe see a baseline that is around zero, the oxyhaemoglobin is positive\nand the deoxyhaemoglobin is negative,\nthe peak occurs around 5 seconds then returns to\nbaseline.\nHowever, it was generated from random noise!\n\n.. sidebar:: PLEASE READ THIS PAPER!!\n\n   Huppert TJ. Commentary on the statistical properties of noise and its\n   implication on general linear models in functional near-infrared\n   spectroscopy. Neurophotonics. 2016;3(1)\n\nAs this is an introduction tutorial I do not go in to details about the\nsignal process theory behind why the settings above are wrong.\nBut if you are interested you should start with a DSP textbook\non signals and systems.\n\nThere are many signal processing parameter choices that interact to produce\nyour end result. It is important to have a control condition to ensure\nthat you aren't forcing your data to have these fake responses.\nIts also important to understand the effect that each parameter choice\nhas on your output. Using a receiver operating characteristic is a good\napproach to understand your analysis.\nThis also highlights some of the concerns with the time domain analysis\napproach, and the benefits of the GLM style of analysis\n`(see MNE-NIRS fNIRS GLM tutorial) <tut-fnirs-hrf>` (and Huppert 2016).\n\n<div class=\"alert alert-danger\"><h4>Warning</h4><p>DO NOT USE THIS SCRIPT TO PROCESS YOUR DATA</p></div>\n\n"
      ]
    }
  ],
  "metadata": {
    "kernelspec": {
      "display_name": "Python 3",
      "language": "python",
      "name": "python3"
    },
    "language_info": {
      "codemirror_mode": {
        "name": "ipython",
        "version": 3
      },
      "file_extension": ".py",
      "mimetype": "text/x-python",
      "name": "python",
      "nbconvert_exporter": "python",
      "pygments_lexer": "ipython3",
      "version": "3.10.12"
    }
  },
  "nbformat": 4,
  "nbformat_minor": 0
}