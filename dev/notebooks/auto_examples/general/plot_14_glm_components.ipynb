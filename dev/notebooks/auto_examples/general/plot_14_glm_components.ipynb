{
  "cells": [
    {
      "cell_type": "markdown",
      "metadata": {},
      "source": [
        "\n\n# GLM and Design Matrix Parameters\n\nThis tutorial describes the various design choices available when analysing\nfNIRS data with a GLM approach.\n\n.. sidebar:: Nilearn\n\n   If you use MNE-NIRS to conduct a GLM analysis please cite Nilearn.\n   This package relies on Nilearn for the underlying computation.\n   Without Nilearn this would not be possible.\n   For how to accurately cite Nilearn see:\n   http://nilearn.github.io/authors.html#citing\n\nThere are subtle differences between the GLM analysis procedures\navailable in the different fNIRS software packages (Homer, NIRS-SPM, etc).\nThis document aims to clarify the features available for GLM analysis\nin the MNE-NIRS software, and demonstrate how you can modify the default\nanalysis parameters to best suit your experiment.\nIt also endeavours to motivate some of the design choices that were made\nwhen designing this software.\nPlease raise a GitHub issue if there is an analysis design you would\nlike to use but can not determine how to do with MNE-NIRS.\n\nThe MNE-NIRS GLM analysis framework is entirely based on the Nilearn package.\nTheir excellent software forms the basis of the analysis described in this tutorial.\nAs such, you may also wish to read\n[their documentation](http://nilearn.github.io)_\nto familiarise yourself with different concepts used in MNE-NIRS.\nSpecifically this tutorial is heavily based on the following Nilearn examples,\nbut placed within an fNIRS context.\n\n* [Nilearn: Understanding parameters of the first-level model](http://nilearn.github.io/auto_examples/04_glm_first_level/plot_first_level_details.html)_.\n* [Nilearn: Example of hemodynamic response functions](https://nilearn.github.io/auto_examples/04_glm_first_level/plot_hrf.html)_.\n\nAccordingly, in this tutorial we will access nilearn functions directly to illustrate\nvarious choices available in your analysis.\nHowever, this is just to illustrate various points. In reality (see all other tutorials),\nMNE-NIRS will wrap all required Nilearn functions so you don't need to access them directly.\n   :depth: 2\n"
      ]
    },
    {
      "cell_type": "code",
      "execution_count": null,
      "metadata": {
        "collapsed": false
      },
      "outputs": [],
      "source": [
        "# sphinx_gallery_thumbnail_number = 1\n\n# Authors: Robert Luke <mail@robertluke.net>\n#\n# License: BSD (3-clause)\n\n\n# Import common libraries\nimport os\nimport numpy as np\nimport mne\n\n# Import MNE-NIRS processing\nfrom mne_nirs.experimental_design import make_first_level_design_matrix, \\\n    longest_inter_annotation_interval, drift_high_pass\n\n# Import Nilearn\nfrom nilearn.glm import first_level\nfrom nilearn.plotting import plot_design_matrix\n\n# Import Plotting Library\nimport matplotlib.pyplot as plt\nimport matplotlib as mpl"
      ]
    },
    {
      "cell_type": "markdown",
      "metadata": {},
      "source": [
        "## Haemodynamic Response Function\n\nVarious Haemodynamic Response Functions (HRFs) are provided for use\nwhen analysing your data. A summary of these functions in the context\nof fMRI is provided in the Nilearn tutorial\n[Nilearn: Example of hemodynamic response functions.](https://nilearn.github.io/auto_examples/04_glm_first_level/plot_hrf.html)_.\nThis example heavily borrows from that example but expands the description\nwithin an fNIRS context.\n\nTo illustrate underlying concepts we will use Nilearn functions directly,\nbut for analysing actual data you should use the MNE-NIRS\n:func:`mne_nirs.experimental_design.make_first_level_design_matrix`\nwrapper.\n\n"
      ]
    },
    {
      "cell_type": "markdown",
      "metadata": {},
      "source": [
        "### HRF Model Selection\n\n.. sidebar:: FIR Models\n\n   MNE-NIRS also supports FIR GLM models.\n   See `MNE-NIRS FIR GLM tutorial <tut-fnirs-fir>`.\n\nTwo standard HRF models are provided. The SPM and Glover models.\nThese differ in their response dynamics.\nBoth are plotted on top of each other below for comparison.\nNote that they differ in their peak timing and undershoot.\n\n"
      ]
    },
    {
      "cell_type": "code",
      "execution_count": null,
      "metadata": {
        "collapsed": false
      },
      "outputs": [],
      "source": [
        "time_length = 30\n\nglover_timecourse = first_level.glover_hrf(1, oversampling=50, time_length=time_length)\nspm_timecourse = first_level.spm_hrf(1, oversampling=50, time_length=time_length)\n\nsample_times = np.linspace(0, time_length, num=len(glover_timecourse))\n\nplt.plot(sample_times, glover_timecourse, label=\"Glover\")\nplt.plot(sample_times, spm_timecourse, label=\"SPM\")\nplt.xlabel(\"Time (s)\")\nplt.ylabel(\"Amplitude (AU)\")\nplt.legend()"
      ]
    },
    {
      "cell_type": "markdown",
      "metadata": {},
      "source": [
        "### Regressor Computation\n\nThese functions are not used directly in the GLM analysis.\nInstead they are used as the basis to compute a regressor which is\nutilised in the GLM fit.\nThis is done by convolving the HRF model with a boxcar function that\ndistills information\nabout the experimental design. Specifically the stimulus onset times\nare used to indicate when a response begins, and a duration is used\nto specify the time over which the model should be convolved.\n\nModifying the duration changes the regressor timecourse. Below we demonstrate\nhow this varies for several duration values with the Glover HRF.\n\n"
      ]
    },
    {
      "cell_type": "code",
      "execution_count": null,
      "metadata": {
        "collapsed": false
      },
      "outputs": [],
      "source": [
        "# Convenient functions so we dont need to repeat code below\ndef generate_stim(onset, amplitude, duration, hrf_model, maxtime=30):\n\n    # Generate signal with specified duration and onset\n    frame_times = np.linspace(0, maxtime, 601)\n    exp_condition = np.array((onset, duration, amplitude)).reshape(3, 1)\n    stim = np.zeros_like(frame_times)\n    stim[(frame_times > onset) * (frame_times <= onset + duration)] = amplitude\n\n    signal, name = first_level.compute_regressor(\n        exp_condition, hrf_model, frame_times, con_id=\"main\", oversampling=16\n    )\n\n    return frame_times, stim, signal\n\n\ndef plot_regressor(onset, amplitude, duration, hrf_model):\n    frame_times, stim, signal = generate_stim(\n        onset, amplitude, duration, hrf_model)\n    plt.fill(frame_times, stim, \"k\", alpha=0.5, label=\"stimulus\")\n    plt.plot(frame_times, signal.T[0], label=\"Regressor\")\n    plt.xlabel(\"Time (s)\")\n    plt.ylabel(\"Amplitude (AU)\")\n    plt.legend(loc=1)\n    plt.title(hrf_model)\n    return None\n\n\n# Generate an event of 1 second duration that occurs at time zero.\nonset, amplitude, duration = 0.0, 1.0, 1.0\nhrf_model = \"glover\"\nplot_regressor(onset, amplitude, duration, hrf_model)"
      ]
    },
    {
      "cell_type": "markdown",
      "metadata": {},
      "source": [
        "If the duration is increased we see the resulting regressor\nis modified, and the transformation is not a simple scaling.\n\nFor a 3 second duration:\n\n"
      ]
    },
    {
      "cell_type": "code",
      "execution_count": null,
      "metadata": {
        "collapsed": false
      },
      "outputs": [],
      "source": [
        "duration = 3\nplot_regressor(onset, amplitude, duration, hrf_model)"
      ]
    },
    {
      "cell_type": "markdown",
      "metadata": {},
      "source": [
        "Or for a 5 second duration:\n\n"
      ]
    },
    {
      "cell_type": "code",
      "execution_count": null,
      "metadata": {
        "collapsed": false
      },
      "outputs": [],
      "source": [
        "duration = 5\nplot_regressor(onset, amplitude, duration, hrf_model)"
      ]
    },
    {
      "cell_type": "markdown",
      "metadata": {},
      "source": [
        "Or for a 15 second duration:\n\n"
      ]
    },
    {
      "cell_type": "code",
      "execution_count": null,
      "metadata": {
        "collapsed": false
      },
      "outputs": [],
      "source": [
        "duration = 15\nplot_regressor(onset, amplitude, duration, hrf_model)"
      ]
    },
    {
      "cell_type": "markdown",
      "metadata": {},
      "source": [
        "We can plot multiple durations together to see how the\nresulting regressor varies as a function of this parameter.\n\n"
      ]
    },
    {
      "cell_type": "code",
      "execution_count": null,
      "metadata": {
        "collapsed": false
      },
      "outputs": [],
      "source": [
        "fig, axes = plt.subplots(nrows=1, ncols=1, figsize=(7, 7))\ncmap = mpl.cm.viridis\nnorm = mpl.colors.Normalize(vmin=0, vmax=40)\n\nfor n in [1, 3, 5, 10, 15, 20, 25, 30, 35]:\n    frame_times, stim, signal = generate_stim(\n        onset, amplitude, n, hrf_model, maxtime=50)\n    axes.plot(frame_times, signal.T[0], label=\"Regressor\", c=cmap(norm(n)))\n\naxes.set_xlabel(\"Time (s)\")\naxes.set_ylabel(\"Amplitude (AU)\")\nplt.colorbar(mpl.cm.ScalarMappable(norm=norm, cmap=cmap), ax=axes)"
      ]
    },
    {
      "cell_type": "markdown",
      "metadata": {},
      "source": [
        "### Inclusion in Design matrix\n\n.. sidebar:: Derivative and dispersion terms\n\n   You can also include derivative and dispersion terms to model\n   differences between your data and the model. This is done by simply\n   specifying your selected model plus the additional terms.\n   For example, ``spm + derivative`` or\n   ``glover + derivative + dispersion``.\n\nAs mentioned above, we don't directly compute these regressors for\neach condition. Instead the function ``make_first_level_design_matrix``\nconveniently does this for us.\n\nAs an example we will import a measurement and generate a\ndesign matrix for it. We will specify that we wish to use a Glover\nHRF convolved with a 3 second duration.\nSee the `MNE-NIRS fNIRS GLM tutorial <tut-fnirs-hrf>` for more details.\n\nFirst we import the example data, crop to just the first few minutes,\nand give names to the annotations.\n\n"
      ]
    },
    {
      "cell_type": "code",
      "execution_count": null,
      "metadata": {
        "collapsed": false
      },
      "outputs": [],
      "source": [
        "fnirs_data_folder = mne.datasets.fnirs_motor.data_path()\nfnirs_raw_dir = os.path.join(fnirs_data_folder, 'Participant-1')\nraw_intensity = mne.io.read_raw_nirx(fnirs_raw_dir).load_data().crop(tmax=300)\n# raw_intensity.resample(0.7)\nraw_intensity.annotations.rename({'1.0': 'Control',\n                                  '2.0': 'Tapping/Left',\n                                  '3.0': 'Tapping/Right'})\nraw_intensity.annotations.delete(raw_intensity.annotations.description == '15.0')\nraw_intensity.annotations.set_durations(5)"
      ]
    },
    {
      "cell_type": "markdown",
      "metadata": {},
      "source": [
        "Next we generate the design matrix and plot it.\nThis representation of the regressor is transposed,\ntime goes down the vertical\naxis and is specified in scan number (fMRI hangover) or sample.\nThere is no colorbar for this plot, as specified in Nilearn.\n\nWe can see that when each event occurs the model value increases before returning to baseline.\nthis is the same information as was shown in the time courses above, except displayed differently\nwith color representing amplitude.\n\n"
      ]
    },
    {
      "cell_type": "code",
      "execution_count": null,
      "metadata": {
        "collapsed": false
      },
      "outputs": [],
      "source": [
        "design_matrix = make_first_level_design_matrix(raw_intensity,\n                                               # Ignore drift model for now, see section below\n                                               drift_model='polynomial',\n                                               drift_order=0,\n                                               # Here we specify the HRF and duration\n                                               hrf_model='glover',\n                                               stim_dur=3.0)\n\nfig, ax1 = plt.subplots(figsize=(10, 6), nrows=1, ncols=1)\nfig = plot_design_matrix(design_matrix, ax=ax1)"
      ]
    },
    {
      "cell_type": "markdown",
      "metadata": {},
      "source": [
        "As before we can explore the effect of modifying the duration,\nthe resulting regressor for each annotation is elongated.\n\n"
      ]
    },
    {
      "cell_type": "code",
      "execution_count": null,
      "metadata": {
        "collapsed": false
      },
      "outputs": [],
      "source": [
        "design_matrix = make_first_level_design_matrix(raw_intensity,\n                                               # Ignore drift model for now, see section below\n                                               drift_model='polynomial',\n                                               drift_order=0,\n                                               # Here we specify the HRF and duration\n                                               hrf_model='glover',\n                                               stim_dur=13.0)\n\nfig, ax1 = plt.subplots(figsize=(10, 6), nrows=1, ncols=1)\nfig = plot_design_matrix(design_matrix, ax=ax1)"
      ]
    },
    {
      "cell_type": "markdown",
      "metadata": {},
      "source": [
        "Depending on your experimental design the resulting responses\nmay overlap (for example an event related design).\nThis is not an issue, the design matrix can handle overlapping responses.\n\n"
      ]
    },
    {
      "cell_type": "code",
      "execution_count": null,
      "metadata": {
        "collapsed": false
      },
      "outputs": [],
      "source": [
        "design_matrix = make_first_level_design_matrix(raw_intensity,\n                                               # Ignore drift model for now, see section below\n                                               drift_model='polynomial',\n                                               drift_order=0,\n                                               # Here we specify the HRF and duration\n                                               hrf_model='glover',\n                                               stim_dur=30.0)\n\nfig, ax1 = plt.subplots(figsize=(10, 6), nrows=1, ncols=1)\nfig = plot_design_matrix(design_matrix, ax=ax1)"
      ]
    },
    {
      "cell_type": "markdown",
      "metadata": {},
      "source": [
        "## Drift Regressors\n\nAspects of the measured signal may change over time in a manner\nunrelated to the neural response we wish to measure.\nFor example, the measurement room may warm up and result in a steady\nincrease in the signal over the measurement duration.\nThese signal changes that are unrelated to our feature of interest are\ntermed drifts, and can be included in the design matrix and the GLM\nfitting as drift regressors.\n\nIn the examples above a single drift regressor was used to model a constant\noffset in the data. This is also termed a zero order polynomial regressor.\nTwo types of regressors are provided for in MNE-NIRS thanks to Nilearn.\nPolynomial and cosine drift regressors.\n\n<div class=\"alert alert-info\"><h4>Note</h4><p>Remember that the GLM can fit a negative coefficient,\n   so a decreasing drift can be modeled by the increasing drift\n   regressor with a negative coefficient.</p></div>\n\n"
      ]
    },
    {
      "cell_type": "markdown",
      "metadata": {},
      "source": [
        "### Polynomial Drift Regressors\n\nIn the example above a polynomial drift regressor is included.\nIn this case we can specify the order of the polynomials to be included.\nA zero order polynomial will fit a constant, a first order will fit an\nincreasing function, and so on.\nAs an example we demonstrate how to include up to a fifth order polynomial.\nYou can observe that with increasing polynomial order,\nhigher frequency components will be regressed from the signal.\n\n"
      ]
    },
    {
      "cell_type": "code",
      "execution_count": null,
      "metadata": {
        "collapsed": false
      },
      "outputs": [],
      "source": [
        "design_matrix = make_first_level_design_matrix(raw_intensity,\n                                               drift_model='polynomial',\n                                               drift_order=5)\n\nfig, ax1 = plt.subplots(figsize=(10, 6), nrows=1, ncols=1)\nfig = plot_design_matrix(design_matrix, ax=ax1)"
      ]
    },
    {
      "cell_type": "markdown",
      "metadata": {},
      "source": [
        "### Cosine Drift Regressors\n\nAn alternative way to specify drift regressors is via the cosine drift model.\nThis may be more intuitive as you can specify regressors up to a certain cut off\nfrequency. Effectively regressing out frequency components below a limit,\nwhich may be interpreted as a high pass filter.\nIn the example below we demonstrate how to regress our signals up to 0.01 Hz.\nWe observe that the function has included 6 drift regressors in the design matrix.\n\n"
      ]
    },
    {
      "cell_type": "code",
      "execution_count": null,
      "metadata": {
        "collapsed": false
      },
      "outputs": [],
      "source": [
        "design_matrix = make_first_level_design_matrix(raw_intensity,\n                                               drift_model='cosine',\n                                               high_pass=0.01)\n\nfig, ax1 = plt.subplots(figsize=(10, 6), nrows=1, ncols=1)\nfig = plot_design_matrix(design_matrix, ax=ax1)"
      ]
    },
    {
      "cell_type": "markdown",
      "metadata": {},
      "source": [
        "As described above, including additional regressor components will remove\nhigher frequency components. So we can increase the high pass cut off and\nthis should add more regressors.\n\n"
      ]
    },
    {
      "cell_type": "code",
      "execution_count": null,
      "metadata": {
        "collapsed": false
      },
      "outputs": [],
      "source": [
        "design_matrix = make_first_level_design_matrix(raw_intensity,\n                                               drift_model='cosine',\n                                               high_pass=0.03)\n\nfig, ax1 = plt.subplots(figsize=(10, 6), nrows=1, ncols=1)\nfig = plot_design_matrix(design_matrix, ax=ax1)"
      ]
    },
    {
      "cell_type": "markdown",
      "metadata": {},
      "source": [
        "### Selecting Drift Regressors\n\nThe aim of the drift regressors is to remove signal components unrelated\nto the expected neural response. As the expected response can be computed\nbased on annotation timing and expected brain responses\n(see `frequency commentary <tut-fnirs-freq>`)\nthe high pass cut off can be set on first principles.\n\nThe Nilearn documentation states that\n\"The cutoff period (1/high_pass) should be set as the longest period between two trials of the same condition multiplied by 2.\nFor instance, if the longest period is 32s, the high_pass frequency shall be 1/64 Hz ~ 0.016 Hz.\"\n[(reference)](http://nilearn.github.io/auto_examples/04_glm_first_level/plot_first_level_details.html#changing-the-drift-model)_.\n\nTo assist in selecting a high pass value a few convenience functions are included in MNE-NIRS.\nFirst we can query what the longest ISI is per annotation, but first we must be sure\nto remove annotations we aren't interested in (in this experiment the trigger\n15 is not of interest).\n\n"
      ]
    },
    {
      "cell_type": "code",
      "execution_count": null,
      "metadata": {
        "collapsed": false
      },
      "outputs": [],
      "source": [
        "raw_original = mne.io.read_raw_nirx(fnirs_raw_dir)\nraw_original.annotations.delete(raw_original.annotations.description == '15.0')\n\nisis, names = longest_inter_annotation_interval(raw_original)\nprint(isis)"
      ]
    },
    {
      "cell_type": "markdown",
      "metadata": {},
      "source": [
        "We see that the longest period between two trials is 435 seconds. Which multiplied\nby two is 870 seconds. So a high pass value of 1/870 or 0.001 Hz is appropriate.\nWe can also use the function\n:func:`mne_nirs.experimental_design.make_first_level_design_matrix`\nto suggest the high pass value. Note however, that you should not blindly follow\nthis functions suggestion, as each experiment is different. Instead use this as\na sanity check on your own calculations.\n\n"
      ]
    },
    {
      "cell_type": "code",
      "execution_count": null,
      "metadata": {
        "collapsed": false
      },
      "outputs": [],
      "source": [
        "print(drift_high_pass(raw_original))"
      ]
    },
    {
      "cell_type": "markdown",
      "metadata": {},
      "source": [
        "For example, if all conditions were evoking the same response it may make more\nsense to include them as a single condition when computing the ISI.\nThis would be achieved by renaming the triggers.\n\n"
      ]
    },
    {
      "cell_type": "code",
      "execution_count": null,
      "metadata": {
        "collapsed": false
      },
      "outputs": [],
      "source": [
        "raw_original.annotations.rename({'2.0': 'Tapping', '3.0': 'Tapping'})\nraw_original.annotations.delete(raw_original.annotations.description == '1.0')\nisis, names = longest_inter_annotation_interval(raw_original)\nprint(isis)\nprint(drift_high_pass(raw_original))"
      ]
    }
  ],
  "metadata": {
    "kernelspec": {
      "display_name": "Python 3",
      "language": "python",
      "name": "python3"
    },
    "language_info": {
      "codemirror_mode": {
        "name": "ipython",
        "version": 3
      },
      "file_extension": ".py",
      "mimetype": "text/x-python",
      "name": "python",
      "nbconvert_exporter": "python",
      "pygments_lexer": "ipython3",
      "version": "3.10.12"
    }
  },
  "nbformat": 4,
  "nbformat_minor": 0
}