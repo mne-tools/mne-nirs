{
  "cells": [
    {
      "cell_type": "code",
      "execution_count": null,
      "metadata": {
        "collapsed": false
      },
      "outputs": [],
      "source": [
        "%matplotlib inline"
      ]
    },
    {
      "cell_type": "markdown",
      "metadata": {},
      "source": [
        "\n\n# GLM FIR Analysis\n\nIn this example we analyse data from a real multi-channel\nfunctional near-infrared spectroscopy (fNIRS)\nexperiment (see `tut-fnirs-hrf-sim` for a simplified simulated\nanalysis). The experiment consists of three conditions:\n1) tapping with the left hand,\n2) tapping with the right hand, and\n3) a control condition where the participant does nothing.\n\nIn this tutorial the morphology of an fNIRS response is obtained using a\nFinite Impulse Response (FIR) GLM analysis.\nAn alternative epoching-style analysis on the same data can be\nviewed in the\n`waveform analysis example <tut-fnirs-group-wave>`.\nSee\n[Luke et al (2021)](https://www.spiedigitallibrary.org/journals/neurophotonics/volume-8/issue-2/025008/Analysis-methods-for-measuring-passive-auditory-fNIRS-responses-generated-by/10.1117/1.NPh.8.2.025008.short)\nfor a comparison of the epoching and GLM FIR approaches.\n\nThis tutorial only examines the tapping with the right hand condition\nto simplify explanation and minimise computation time. The reader is invited\nto expand the code to also analyse the other conditions.\n\nThis GLM analysis is a wrapper over the excellent\n[Nilearn GLM](http://nilearn.github.io/modules/reference.html#module-nilearn.glm).\n\n<div class=\"alert alert-info\"><h4>Note</h4><p>This is an advanced tutorial and requires knowledge of pandas and numpy.\n   I plan to write some functions to make this more convenient in the future.</p></div>\n\n<div class=\"alert alert-info\"><h4>Note</h4><p>The sample rate used in this example is set to 0.5 Hz. This is done to\n   ensure that the code can run on the continuous integration servers. You may\n   wish to increase the sample rate by adjusting `resample` below for your\n   own analysis.</p></div>\n\n<div class=\"alert alert-info\"><h4>Note</h4><p>This tutorial uses data in the BIDS format.\n   The BIDS specification for NIRS data is still under development. See:\n   [fNIRS BIDS proposal](https://github.com/bids-standard/bids-specification/pull/802).\n   As such, to run this tutorial you must use the MNE-BIDS 0.10 or later.\n\n   MNE-Python allows you to process fNIRS data that is not in BIDS format too.\n   Simply modify the ``read_raw_`` function to match your data type.\n   See `data importing tutorial <tut-importing-fnirs-data>` to learn how\n   to use your data with MNE-Python.</p></div>\n   :depth: 2\n"
      ]
    },
    {
      "cell_type": "code",
      "execution_count": null,
      "metadata": {
        "collapsed": false
      },
      "outputs": [],
      "source": [
        "# sphinx_gallery_thumbnail_number = 1\n\n# Authors: Robert Luke <mail@robertluke.net>\n#\n# License: BSD (3-clause)\n\n\n# Import common libraries\nimport numpy as np\nimport pandas as pd\n\n# Import MNE processing\nfrom mne.preprocessing.nirs import optical_density, beer_lambert_law\n\n# Import MNE-NIRS processing\nfrom mne_nirs.statistics import run_glm\nfrom mne_nirs.experimental_design import make_first_level_design_matrix\nfrom mne_nirs.statistics import statsmodels_to_results\nfrom mne_nirs.datasets import fnirs_motor_group\nfrom mne_nirs.channels import get_short_channels, get_long_channels\n\n# Import MNE-BIDS processing\nfrom mne_bids import BIDSPath, read_raw_bids\n\n# Import StatsModels\nimport statsmodels.formula.api as smf\n\n# Import Plotting Library\nimport matplotlib.pyplot as plt"
      ]
    },
    {
      "cell_type": "markdown",
      "metadata": {},
      "source": [
        "## Define FIR analysis\n\nThis code runs a FIR GLM analysis.\nIt fits a FIR for each sample from the onset of a trigger.\nWe specify here that 10 FIR delays should be used.\nThis results in values being estimated for 10 `delay` steps.\nDue to the chosen sample rate of 0.5 Hz, these delays\ncorrespond to 0, 2, 4... seconds from the onset of the stimulus.\n\n"
      ]
    },
    {
      "cell_type": "code",
      "execution_count": null,
      "metadata": {
        "collapsed": false
      },
      "outputs": [],
      "source": [
        "def analysis(fname, ID):\n\n    raw_intensity = read_raw_bids(bids_path=fname, verbose=False)\n    # Delete annotation labeled 15, as these just signify the start and end of experiment.\n    raw_intensity.annotations.delete(raw_intensity.annotations.description == '15.0')\n    # sanitize event names\n    raw_intensity.annotations.description[:] = [\n        d.replace('/', '_') for d in raw_intensity.annotations.description]\n\n    # Convert signal to haemoglobin and just keep hbo\n    raw_od = optical_density(raw_intensity)\n    raw_haemo = beer_lambert_law(raw_od, ppf=0.1)\n    raw_haemo.resample(0.5, npad=\"auto\")\n\n    # Cut out just the short channels for creating a GLM regressor\n    short_chans = get_short_channels(raw_haemo)\n    raw_haemo = get_long_channels(raw_haemo)\n\n    # Create a design matrix\n    design_matrix = make_first_level_design_matrix(raw_haemo,\n                                                   hrf_model='fir',\n                                                   stim_dur=1.0,\n                                                   fir_delays=range(10),\n                                                   drift_model='cosine',\n                                                   high_pass=0.01,\n                                                   oversampling=1)\n    # Add short channels as regressor in GLM\n    for chan in range(len(short_chans.ch_names)):\n        design_matrix[f\"short_{chan}\"] = short_chans.get_data(chan).T\n\n    # Run GLM\n    glm_est = run_glm(raw_haemo, design_matrix)\n\n    # Create a single ROI that includes all channels for example\n    rois = dict(AllChannels=range(len(raw_haemo.ch_names)))\n    # Calculate ROI for all conditions\n    conditions = design_matrix.columns\n    # Compute output metrics by ROI\n    df_ind = glm_est.to_dataframe_region_of_interest(rois, conditions)\n\n    df_ind[\"ID\"] = ID\n    df_ind[\"theta\"] = [t * 1.e6 for t in df_ind[\"theta\"]]\n\n    return df_ind, raw_haemo, design_matrix"
      ]
    },
    {
      "cell_type": "markdown",
      "metadata": {},
      "source": [
        "## Run analysis\n\nThe analysis is run on each individual subject measurement.\nThe individual results are then appended to a dataframe for\ngroup-level analysis below.\n\n"
      ]
    },
    {
      "cell_type": "code",
      "execution_count": null,
      "metadata": {
        "collapsed": false
      },
      "outputs": [],
      "source": [
        "df = pd.DataFrame()\n\nfor sub in range(1, 6):  # Loop from first to fifth subject\n    ID = '%02d' % sub  # Tidy the subject name\n\n    # Create path to file based on experiment info\n    bids_path = BIDSPath(subject=ID, task=\"tapping\",\n                         root=fnirs_motor_group.data_path(),\n                         datatype=\"nirs\", suffix=\"nirs\", extension=\".snirf\")\n\n    df_individual, raw, dm = analysis(bids_path, ID)\n\n    df = pd.concat([df, df_individual])"
      ]
    },
    {
      "cell_type": "markdown",
      "metadata": {},
      "source": [
        "## Tidy the dataframe\n\nFor simplicity we only examine the data from the right hand\ntapping condition. The code below retains only the relevant information\nfrom the dataframe and design matrix for the following statistical analysis.\n\n"
      ]
    },
    {
      "cell_type": "code",
      "execution_count": null,
      "metadata": {
        "collapsed": false
      },
      "outputs": [],
      "source": [
        "# Keep only tapping and FIR delay information in the dataframe\n# I.e., for this example we are not interest in the drift coefficients,\n# short channel information, or control conditions.\ndf[\"isTapping\"] = [\"Tapping_Right\" in n for n in df[\"Condition\"]]\ndf[\"isDelay\"] = [\"delay\" in n for n in df[\"Condition\"]]\ndf = df.query(\"isDelay in [True]\")\ndf = df.query(\"isTapping in [True]\")\n# Make a new column that stores the condition name for tidier model below\ndf.loc[df[\"isTapping\"] == True, \"TidyCond\"] = \"Tapping\"\n# Finally, extract the FIR delay in to its own column in data frame\ndf.loc[:, \"delay\"] = [n.split('_')[-1] for n in df.Condition]\n\n# To simplify this example we will only look at the right hand tapping\n# condition so we now remove the left tapping conditions from the\n# design matrix and GLM results\ndm_cols_not_left = np.where([\"Right\" in c for c in dm.columns])[0]\ndm = dm[[dm.columns[i] for i in dm_cols_not_left]]"
      ]
    },
    {
      "cell_type": "markdown",
      "metadata": {},
      "source": [
        "## Run group-level model\n\nA linear mixed effects (LME) model is used to determine the effect\nof FIR delay for each chromophore on the evoked response with participant\n(ID) as a random variable.\n\n"
      ]
    },
    {
      "cell_type": "code",
      "execution_count": null,
      "metadata": {
        "collapsed": false
      },
      "outputs": [],
      "source": [
        "lme = smf.mixedlm('theta ~ -1 + delay:TidyCond:Chroma', df,\n                  groups=df[\"ID\"]).fit()\n\n# The model is summarised below, and is not displayed here.\n# You can display the model output using: lme.summary()"
      ]
    },
    {
      "cell_type": "markdown",
      "metadata": {},
      "source": [
        "## Summarise group-level findings\n\nNext the values from the model above are extracted into a dataframe for\nmore convenient analysis below.\nA subset of the results is displayed, illustrating the estimated coefficients\nfor oxyhaemoglobin (HbO) for the right hand tapping condition.\n\n"
      ]
    },
    {
      "cell_type": "code",
      "execution_count": null,
      "metadata": {
        "collapsed": false
      },
      "outputs": [],
      "source": [
        "# Create a dataframe from LME model for plotting below\ndf_sum = statsmodels_to_results(lme)\ndf_sum[\"delay\"] = [int(n) for n in df_sum[\"delay\"]]\ndf_sum = df_sum.sort_values('delay')\n\n# Print the result for the oxyhaemoglobin data in the tapping condition\ndf_sum.query(\"TidyCond in ['Tapping']\").query(\"Chroma in ['hbo']\")"
      ]
    },
    {
      "cell_type": "markdown",
      "metadata": {},
      "source": [
        "Note in the output above that there are 10 FIR delays.\nA coefficient estimate has been calculated for each delay.\nThese coefficients must be multiplied by the FIR function to obtain the\nmorphology of the fNIRS response.\n\n"
      ]
    },
    {
      "cell_type": "markdown",
      "metadata": {},
      "source": [
        "## Plot the response from a single condition\n\nFinally we create a plot with three facets.\nThe first facet illustrates the FIR model that was used in the GLM analysis,\nthe model results displayed in the table above indicate the scaling values\nthat should be applied to this model so that it best describes the\nmeasured data.\nThe second facet illustrates the estimated amplitude of each FIR component\nfor the right hand tapping condition for the oxyhaemoglobin data,\nit is obtained by multiplying the FIR model by the estimated coefficients\nfrom the GLM output.\nThe third facet illustrates the overall estimated response for each\nchromophore and is calculated by summing all the individual FIR components\nper chromophore (HbR not shown in first two facets).\n\n"
      ]
    },
    {
      "cell_type": "code",
      "execution_count": null,
      "metadata": {
        "collapsed": false
      },
      "outputs": [],
      "source": [
        "fig, axes = plt.subplots(nrows=1, ncols=3, figsize=(20, 10))\n\n# Extract design matrix columns that correspond to the condition of interest\ndm_cond_idxs = np.where([\"Tapping\" in n for n in dm.columns])[0]\ndm_cond = dm[[dm.columns[i] for i in dm_cond_idxs]]\n\n# Extract the corresponding estimates from the lme dataframe for hbo\ndf_hbo = df_sum.query(\"TidyCond in ['Tapping']\").query(\"Chroma in ['hbo']\")\nvals_hbo = [float(v) for v in df_hbo[\"Coef.\"]]\ndm_cond_scaled_hbo = dm_cond * vals_hbo\n\n# Extract the corresponding estimates from the lme dataframe for hbr\ndf_hbr = df_sum.query(\"TidyCond in ['Tapping']\").query(\"Chroma in ['hbr']\")\nvals_hbr = [float(v) for v in df_hbr[\"Coef.\"]]\ndm_cond_scaled_hbr = dm_cond * vals_hbr\n\n# Extract the time scale for plotting.\n# Set time zero to be the onset of the finger tapping.\nindex_values = dm_cond_scaled_hbo.index - np.ceil(raw.annotations.onset[0])\nindex_values = np.asarray(index_values)\n\n# Plot the result\naxes[0].plot(index_values, np.asarray(dm_cond))\naxes[1].plot(index_values,np.asarray(dm_cond_scaled_hbo))\naxes[2].plot(index_values, np.sum(dm_cond_scaled_hbo, axis=1), 'r')\naxes[2].plot(index_values, np.sum(dm_cond_scaled_hbr, axis=1), 'b')\n\n# Format the plot\nfor ax in range(3):\n    axes[ax].set_xlim(-5, 30)\n    axes[ax].set_xlabel(\"Time (s)\")\naxes[0].set_ylim(-0.5, 1.3)\naxes[1].set_ylim(-3, 8)\naxes[2].set_ylim(-3, 8)\naxes[0].set_title(\"FIR Model (Unscaled by GLM estimates)\")\naxes[1].set_title(\"FIR Components (Scaled by Tapping/Right GLM Estimates)\")\naxes[2].set_title(\"Evoked Response (Tapping/Right)\")\naxes[0].set_ylabel(\"FIR Model\")\naxes[1].set_ylabel(\"Oyxhaemoglobin (\u0394\u03bcMol)\")\naxes[2].set_ylabel(\"Haemoglobin (\u0394\u03bcMol)\")\naxes[2].legend([\"Oyxhaemoglobin\", \"Deoyxhaemoglobin\"])"
      ]
    },
    {
      "cell_type": "markdown",
      "metadata": {},
      "source": [
        "## Plot the response with confidence intervals\n\n\n"
      ]
    },
    {
      "cell_type": "code",
      "execution_count": null,
      "metadata": {
        "collapsed": false
      },
      "outputs": [],
      "source": [
        "# We can also extract the 95% confidence intervals of the estimates too\nl95_hbo = [float(v) for v in df_hbo[\"[0.025\"]]  # lower estimate\nu95_hbo = [float(v) for v in df_hbo[\"0.975]\"]]  # upper estimate\ndm_cond_scaled_hbo_l95 = dm_cond * l95_hbo\ndm_cond_scaled_hbo_u95 = dm_cond * u95_hbo\nl95_hbr = [float(v) for v in df_hbr[\"[0.025\"]]  # lower estimate\nu95_hbr = [float(v) for v in df_hbr[\"0.975]\"]]  # upper estimate\ndm_cond_scaled_hbr_l95 = dm_cond * l95_hbr\ndm_cond_scaled_hbr_u95 = dm_cond * u95_hbr\n\nfig, axes = plt.subplots(nrows=1, ncols=1, figsize=(7, 7))\n\n# Plot the result\naxes.plot(index_values, np.sum(dm_cond_scaled_hbo, axis=1), 'r')\naxes.plot(index_values, np.sum(dm_cond_scaled_hbr, axis=1), 'b')\naxes.fill_between(index_values,\n                     np.sum(dm_cond_scaled_hbo_l95, axis=1),\n                     np.sum(dm_cond_scaled_hbo_u95, axis=1),\n                     facecolor='red', alpha=0.25)\naxes.fill_between(index_values,\n                     np.sum(dm_cond_scaled_hbr_l95, axis=1),\n                     np.sum(dm_cond_scaled_hbr_u95, axis=1),\n                     facecolor='blue', alpha=0.25)\n\n# Format the plot\naxes.set_xlim(-5, 30)\naxes.set_ylim(-7, 10)\naxes.set_title(\"Evoked Response (Tapping/Right)\")\naxes.set_ylabel(\"Haemoglobin (\u0394\u03bcMol)\")\naxes.legend([\"Oyxhaemoglobin\", \"Deoyxhaemoglobin\"])\naxes.set_xlabel(\"Time (s)\")"
      ]
    }
  ],
  "metadata": {
    "kernelspec": {
      "display_name": "Python 3",
      "language": "python",
      "name": "python3"
    },
    "language_info": {
      "codemirror_mode": {
        "name": "ipython",
        "version": 3
      },
      "file_extension": ".py",
      "mimetype": "text/x-python",
      "name": "python",
      "nbconvert_exporter": "python",
      "pygments_lexer": "ipython3",
      "version": "3.8.0"
    }
  },
  "nbformat": 4,
  "nbformat_minor": 0
}