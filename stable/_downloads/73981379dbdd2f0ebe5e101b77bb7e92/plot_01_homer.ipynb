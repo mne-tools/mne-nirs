{
  "cells": [
    {
      "cell_type": "markdown",
      "metadata": {},
      "source": [
        "\n\n# Migrating from Homer to MNE\n\nThis tutorial will demonstrate how to do convert a basic Homer script to MNE\nand highlight differences and common issues you may encounter.\n\nHomer2 is a MATLAB based software analysis package. https://homer-fnirs.org/\n\nHomer3 is also a MATLAB based analysis package. https://github.com/BUNPC/Homer3\n\n\n# Basic Homer2 script to be reproduced in MNE\n\nBelow is a common example analysis performed in Homer.\nThe NIRx data is converted to .nirs format.\nThen the intensity signal is convert to optical density,\nmotion corrected using TDDR, and converted to haemoglobin concentration.\n\n\n```matlab\nHomerOfflineConverter('~/mne_data/MNE-fNIRS-motor-data/Participant-1');\nload('file.nirs', '-mat');\nfs = 7.8125;\ndRange = [0.07 3];\nSNRthresh = 7;\nSDrange = [0 45];\nreset = 0;\ntIncMan = ones(size(s,1),1);\ndod = hmrIntensity2OD(d);\nSD = enPruneChannels(d,SD,tIncMan,dRange,SNRthresh,SDrange,reset);\ntddr = hmrMotionCorrectTDDR(dod,SD,fs);\nppf = [6 6];\ndc = hmrOD2Conc(tddr,SD,ppf);\n```\n"
      ]
    },
    {
      "cell_type": "markdown",
      "metadata": {},
      "source": [
        "# MNE equivalent of Homer script\n\nFirst the necessary libraries and functions are imported.\n\n"
      ]
    },
    {
      "cell_type": "code",
      "execution_count": null,
      "metadata": {
        "collapsed": false
      },
      "outputs": [],
      "source": [
        "# Authors: Robert Luke <mail@robertluke.net>\n#\n# License: BSD (3-clause)\n\nimport os\n\nimport mne\nfrom mne.io import read_raw_nirx\nfrom mne.preprocessing.nirs import (\n    beer_lambert_law,\n    optical_density,\n    temporal_derivative_distribution_repair,\n)"
      ]
    },
    {
      "cell_type": "markdown",
      "metadata": {},
      "source": [
        "## Convert to optical density and motion correct\n\nFirst we load the data which simply involves pointing the load function\nto the correct directory.\n\n"
      ]
    },
    {
      "cell_type": "code",
      "execution_count": null,
      "metadata": {
        "collapsed": false
      },
      "outputs": [],
      "source": [
        "# First we obtain the path to the data\nfnirs_data_folder = mne.datasets.fnirs_motor.data_path()\nfnirs_raw_dir = os.path.join(fnirs_data_folder, \"Participant-1\")\n\n# Next we read the data\nraw_intensity = read_raw_nirx(fnirs_raw_dir).load_data()"
      ]
    },
    {
      "cell_type": "markdown",
      "metadata": {},
      "source": [
        "## Convert signal to optical density and apply TDDR\n\nAs with Homer we can convert the intensity data to optical density and\napply motion correction using the TDDR method.\n\n"
      ]
    },
    {
      "cell_type": "code",
      "execution_count": null,
      "metadata": {
        "collapsed": false
      },
      "outputs": [],
      "source": [
        "raw_od = optical_density(raw_intensity)\ncorrected_tddr = temporal_derivative_distribution_repair(raw_od)"
      ]
    },
    {
      "cell_type": "markdown",
      "metadata": {},
      "source": [
        "## Convert to haemoglobin concentration\n\nNext we convert the signal to changes in haemoglobin concentration.\nMNE uses a different default value for the partial pathlength factor (ppf),\nHomer uses a default value of ppf=6, whereas MNE uses ppf=0.1,\nTo exactly match the results from Homer we can manually set the ppf value to\n6 in MNE.\n\n"
      ]
    },
    {
      "cell_type": "code",
      "execution_count": null,
      "metadata": {
        "collapsed": false
      },
      "outputs": [],
      "source": [
        "raw_h = beer_lambert_law(corrected_tddr, ppf=6.0)"
      ]
    },
    {
      "cell_type": "markdown",
      "metadata": {},
      "source": [
        "## Further analysis details\n\nCommonly this preprocessing is followed by an averaging analysis as described\nin the `MNE fNIRS tutorial <mne:tut-fnirs-processing>`.\nIf there is useful processing in the Homer\nthat is not available in MNE\nplease let us know by creating an issue at\nhttps://github.com/mne-tools/mne-nirs/issues\n\n"
      ]
    }
  ],
  "metadata": {
    "kernelspec": {
      "display_name": "Python 3",
      "language": "python",
      "name": "python3"
    },
    "language_info": {
      "codemirror_mode": {
        "name": "ipython",
        "version": 3
      },
      "file_extension": ".py",
      "mimetype": "text/x-python",
      "name": "python",
      "nbconvert_exporter": "python",
      "pygments_lexer": "ipython3",
      "version": "3.10.12"
    }
  },
  "nbformat": 4,
  "nbformat_minor": 0
}