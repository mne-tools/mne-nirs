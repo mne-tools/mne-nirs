{
  "cells": [
    {
      "cell_type": "markdown",
      "metadata": {},
      "source": [
        "\n\n# SNIRF Support in MNE\n\n.. sidebar:: .nirs files\n\n   MNE does not support reading ``.nirs`` files. If you have ``.nirs`` files that\n   you would like to process in MNE, you should first convert them to SNIRF.\n   To convert ``.nirs`` files to SNIRF you can use the Homer3 ``Nirs2Snirf``\n   function. See https://github.com/fNIRS/snirf_homer3\n\nSNIRF is a file format for storing functional near-infrared spectroscopy (fNIRS)\ndata. The specification is maintained by the society for functional near infrared\nspectroscopy.\n\nMNE Python and MNE-NIRS can be used to read and write SNIRF files respectively.\nIn this tutorial we demonstrate how to convert your MNE data to\nSNIRF and write it to disk and also how to read SNIRF files. We also demonstrate how to\nvalidate that a SNIRF file conforms to the SNIRF specification.\n\nYou can read the SNIRF protocol at the official site https://github.com/fNIRS/snirf.\n"
      ]
    },
    {
      "cell_type": "code",
      "execution_count": null,
      "metadata": {
        "collapsed": false
      },
      "outputs": [],
      "source": [
        "# Authors: Robert Luke <mail@robertluke.net>\n#\n# License: BSD (3-clause)\n\nimport os\n\nimport mne\nimport snirf\nfrom mne.io import read_raw_nirx, read_raw_snirf\nfrom mne.preprocessing.nirs import beer_lambert_law, optical_density\nfrom numpy.testing import assert_allclose\n\nfrom mne_nirs.io import write_raw_snirf"
      ]
    },
    {
      "cell_type": "markdown",
      "metadata": {},
      "source": [
        "## Import raw NIRS data from vendor\n\nFirst we import some example data recorded with a NIRX device.\n\n"
      ]
    },
    {
      "cell_type": "code",
      "execution_count": null,
      "metadata": {
        "collapsed": false
      },
      "outputs": [],
      "source": [
        "fnirs_data_folder = mne.datasets.fnirs_motor.data_path()\nfnirs_raw_dir = os.path.join(fnirs_data_folder, \"Participant-1\")\nraw_intensity = read_raw_nirx(fnirs_raw_dir).load_data()"
      ]
    },
    {
      "cell_type": "markdown",
      "metadata": {},
      "source": [
        "## Write data as SNIRF\n\nNow we can write this data back to disk in the SNIRF format.\n\n"
      ]
    },
    {
      "cell_type": "code",
      "execution_count": null,
      "metadata": {
        "collapsed": false
      },
      "outputs": [],
      "source": [
        "write_raw_snirf(raw_intensity, \"test_raw.snirf\")"
      ]
    },
    {
      "cell_type": "markdown",
      "metadata": {},
      "source": [
        "## Read back SNIRF file\n\nNext we can read back the snirf file.\n\n"
      ]
    },
    {
      "cell_type": "code",
      "execution_count": null,
      "metadata": {
        "collapsed": false
      },
      "outputs": [],
      "source": [
        "snirf_intensity = read_raw_snirf(\"test_raw.snirf\")"
      ]
    },
    {
      "cell_type": "markdown",
      "metadata": {},
      "source": [
        "## Compare files\n\nFinally we can compare the data of the original to the SNIRF format and\nensure that the values are the same.\n\n"
      ]
    },
    {
      "cell_type": "code",
      "execution_count": null,
      "metadata": {
        "collapsed": false
      },
      "outputs": [],
      "source": [
        "assert_allclose(raw_intensity.get_data(), snirf_intensity.get_data())\n\nsnirf_intensity.plot(n_channels=30, duration=300, show_scrollbars=False)"
      ]
    },
    {
      "cell_type": "markdown",
      "metadata": {},
      "source": [
        "## Validate SNIRF File\n\nTo validate that a file complies with the SNIRF standard you should use the\nofficial SNIRF validator from the Boston University Neurophotonics Center\ncalled ``snirf``. Detailed instructions for this program can be found at\nhttps://github.com/BUNPC/pysnirf2. Below we demonstrate that the files created\nby MNE-NIRS are compliant with the specification.\n\n"
      ]
    },
    {
      "cell_type": "code",
      "execution_count": null,
      "metadata": {
        "collapsed": false
      },
      "outputs": [],
      "source": [
        "result = snirf.validateSnirf(\"test_raw.snirf\")\nassert result.is_valid()\nresult.display()"
      ]
    },
    {
      "cell_type": "markdown",
      "metadata": {},
      "source": [
        "## Optical Density\n\nMNE-NIRS cal also be used to write optical density data to SNIRF files.\n\n"
      ]
    },
    {
      "cell_type": "code",
      "execution_count": null,
      "metadata": {
        "collapsed": false
      },
      "outputs": [],
      "source": [
        "raw_od = optical_density(raw_intensity)\nwrite_raw_snirf(raw_od, \"test_raw_od.snirf\")\n\nresult = snirf.validateSnirf(\"test_raw_od.snirf\")\nassert result.is_valid()\nresult.display()"
      ]
    },
    {
      "cell_type": "markdown",
      "metadata": {},
      "source": [
        "## Haemoglobin\n\nAnd it can write valid haemoglobin data to SNIRF files.\n\n"
      ]
    },
    {
      "cell_type": "code",
      "execution_count": null,
      "metadata": {
        "collapsed": false
      },
      "outputs": [],
      "source": [
        "raw_hb = beer_lambert_law(raw_od)\nwrite_raw_snirf(raw_hb, \"test_raw_hb.snirf\")\n\nresult = snirf.validateSnirf(\"test_raw_hb.snirf\")\nassert result.is_valid()\nresult.display()"
      ]
    }
  ],
  "metadata": {
    "kernelspec": {
      "display_name": "Python 3",
      "language": "python",
      "name": "python3"
    },
    "language_info": {
      "codemirror_mode": {
        "name": "ipython",
        "version": 3
      },
      "file_extension": ".py",
      "mimetype": "text/x-python",
      "name": "python",
      "nbconvert_exporter": "python",
      "pygments_lexer": "ipython3",
      "version": "3.10.12"
    }
  },
  "nbformat": 4,
  "nbformat_minor": 0
}