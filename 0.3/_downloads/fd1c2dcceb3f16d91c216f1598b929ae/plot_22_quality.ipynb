{
  "cells": [
    {
      "cell_type": "code",
      "execution_count": null,
      "metadata": {
        "collapsed": false
      },
      "outputs": [],
      "source": [
        "%matplotlib inline"
      ]
    },
    {
      "cell_type": "markdown",
      "metadata": {},
      "source": [
        "\n\n# Signal Quality Evaluation\n\nThis tutorial demonstrates how signal quality can be evaluated using MNE-NIRS.\n\n.. sidebar:: Relevant literature\n\n   Pollonini L et al., \u201cPHOEBE: a method for real time mapping of\n   optodes-scalp coupling in functional near-infrared spectroscopy\u201d in\n   Biomed. Opt. Express 7, 5104-5119 (2016).\n\n   Montero Hernandez, Samuel, and Luca Pollonini. \"NIRSplot: a tool for\n   quality assessment of fNIRS scans.\" Optics and the Brain.\n   Optical Society of America, 2020.\n\n   Pollonini, L., Olds, C., Abaya, H., Bortfeld, H., Beauchamp, M. S., &\n   Oghalai, J. S. (2014). Auditory cortex activation to natural speech and\n   simulated cochlear implant speech measured with functional near-infrared\n   spectroscopy. Hearing research, 309, 84-93.\n\nEnsuring your data is of high quality is essential to good scientific research.\nEvaluating data quality is an essential part of both data collection and\nanalysis.\nFor assessing data quality during data acquisition tools such as PHOEBE are\nhighly recommended, these allow the researcher to address potential problems\nimmediately and modify their experiment to improve the quality of recorded\ndata.\nIt is also important to assess data quality during data analysis.\nMNE-Python and MNE-NIRS provides several mechanisms to allow researchers\nto evaluate the quality of their data and to include this information in their\ndownstream processing.\nDedicated tools exist for quality evaluatiuon such as Montero Hernandez (2020).\nThis tutorial demonstrates methods in MNE-NIRS and MNE-Python for determining\nchannels with poor signal\nquality, and methods for determining time segments of data that are of low\nquality in a subset of channels.\n\nTwo methods are introduced in this tutorial. The scalp coupling index (SCI)\nand peak power (PP) metrics. Both of these methods examine the signal for\nthe presence of a heart beat signal, which indicates that the sensors\nwere in contact with the scalp. For further details see the papers listed\nin the relevant literature sidebar.\n"
      ]
    },
    {
      "cell_type": "code",
      "execution_count": null,
      "metadata": {
        "collapsed": false
      },
      "outputs": [],
      "source": [
        "# sphinx_gallery_thumbnail_number = 7\n\n# Authors: Robert Luke <mail@robertluke.net>\n#\n# License: BSD (3-clause)\n\nimport os\nimport mne\nimport numpy as np\nfrom itertools import compress\nimport matplotlib.pyplot as plt\n\nfrom mne.preprocessing.nirs import optical_density\nfrom mne_nirs.preprocessing import peak_power, scalp_coupling_index_windowed\nfrom mne_nirs.visualisation import plot_timechannel_quality_metric"
      ]
    },
    {
      "cell_type": "markdown",
      "metadata": {},
      "source": [
        "## Import data\n\nHere we will work with the `fNIRS motor data <fnirs-motor-dataset>`.\nWe resample the data to make indexing exact times more convenient.\nWe then convert the data to optical density and plot the raw signal.\n\n"
      ]
    },
    {
      "cell_type": "code",
      "execution_count": null,
      "metadata": {
        "collapsed": false
      },
      "outputs": [],
      "source": [
        "fnirs_data_folder = mne.datasets.fnirs_motor.data_path()\nfnirs_cw_amplitude_dir = os.path.join(fnirs_data_folder, 'Participant-1')\nraw_intensity = mne.io.read_raw_nirx(fnirs_cw_amplitude_dir, verbose=True)\nraw_intensity.load_data().resample(4.0, npad=\"auto\")\nraw_od = optical_density(raw_intensity)\nraw_od.plot(n_channels=55, duration=4000, show_scrollbars=False, clipping=None)"
      ]
    },
    {
      "cell_type": "markdown",
      "metadata": {},
      "source": [
        "From the above plot we observe that the data is relatively clean.\nLater we will add some artificial bad sections to demonstrate the quality\nevaluation metrics.\n\n"
      ]
    },
    {
      "cell_type": "markdown",
      "metadata": {},
      "source": [
        "## Scalp Coupling Index\n\nThe scalp coupling index (SCI) from Pollonini (2016) provides a measure of\nthe quality of the signal for a channel over a specified\nmeasurement duration. See Pollonini (2016) for further details of the\ntheory and implementation.\n\n\n### SCI evaluated over entire signal\n\nHere we calculate the SCI for each channel over\nthe entire signal and view the distribution of values.\n\n"
      ]
    },
    {
      "cell_type": "code",
      "execution_count": null,
      "metadata": {
        "collapsed": false
      },
      "outputs": [],
      "source": [
        "sci = mne.preprocessing.nirs.scalp_coupling_index(raw_od)\nfig, ax = plt.subplots()\nax.hist(sci)\nax.set(xlabel='Scalp Coupling Index', ylabel='Count', xlim=[0, 1])"
      ]
    },
    {
      "cell_type": "markdown",
      "metadata": {},
      "source": [
        "We observe that most of the channels have a good SCI of 1, but a few channels\nhave a poorer score. We can list the channels with an SCI below a threshold.\nAnd we can mark these as bad in the MNE data. This way the functions\ndownstream will know that the data in these channels is bad.\nFor this example we set the threshold for a bad channel to be SCI < 0.8.\nWe then print a list of the bad channels and observe their are 10 channels\n(five source-detector pairs) that are marked as bad.\n\n"
      ]
    },
    {
      "cell_type": "code",
      "execution_count": null,
      "metadata": {
        "collapsed": false
      },
      "outputs": [],
      "source": [
        "raw_od.info['bads'] = list(compress(raw_od.ch_names, sci < 0.7))\nprint(raw_od.info['bads'])"
      ]
    },
    {
      "cell_type": "markdown",
      "metadata": {},
      "source": [
        "We can plot the time course of the signal again and note that the bad\nchannels are now displayed in grey to indicate they are bad.\n\n"
      ]
    },
    {
      "cell_type": "code",
      "execution_count": null,
      "metadata": {
        "collapsed": false
      },
      "outputs": [],
      "source": [
        "raw_od.plot(n_channels=55, duration=4000, show_scrollbars=False, clipping=None)"
      ]
    },
    {
      "cell_type": "markdown",
      "metadata": {},
      "source": [
        "Similarly, we can view the montage diagram and view where on the head\nthe bad channels were positioned.\n\n"
      ]
    },
    {
      "cell_type": "code",
      "execution_count": null,
      "metadata": {
        "collapsed": false
      },
      "outputs": [],
      "source": [
        "raw_od.plot_sensors()"
      ]
    },
    {
      "cell_type": "markdown",
      "metadata": {},
      "source": [
        "### SCI evaluated over initial segment of signal\n\nThe scalp coupling index can be calculated over a limited section of\nthe signal by cropping to the desired section. For example, if you wish to\nevaluate the data quality of the first 10 seconds of the signal.\nNote that the difference to evaluation of the entire signal was quite subtle,\nbut this may vary depending on your experimental design and setup.\n\n"
      ]
    },
    {
      "cell_type": "code",
      "execution_count": null,
      "metadata": {
        "collapsed": false
      },
      "outputs": [],
      "source": [
        "sci = mne.preprocessing.nirs.scalp_coupling_index(raw_od.copy().crop(10))\nfig, ax = plt.subplots()\nax.hist(sci)\nax.set(xlabel='Scalp Coupling Index', ylabel='Count', xlim=[0, 1])"
      ]
    },
    {
      "cell_type": "markdown",
      "metadata": {},
      "source": [
        "### SCI evaluated over moving window\n\nThe scalp coupling index can be calculated over\nwindowed chunks of the signal.\nThis plot is based on the meg bad channel detection figures\navailable in mne-bids-pipeline.\nBlack horizontal lines indicate channels that have been marked as bad\n(see above).\nThe color in the left facet shows the raw scores,\nThe color in the right facet indicates segments that are below the threshold.\nThis is useful for determining if a channel becomes bad throughout an\nexperiment. This may occur due to movement dislodging the optode or many\nother causes.\nIn this example we set the time window to be 60 seconds, but the user may\ndefine a window length that is appropriate for the experiment.\n\n"
      ]
    },
    {
      "cell_type": "code",
      "execution_count": null,
      "metadata": {
        "collapsed": false
      },
      "outputs": [],
      "source": [
        "_, scores, times = scalp_coupling_index_windowed(raw_od, time_window=60)\nplot_timechannel_quality_metric(raw_od, scores, times, threshold=0.7,\n                                title=\"Scalp Coupling Index \"\n                                      \"Quality Evaluation\")"
      ]
    },
    {
      "cell_type": "markdown",
      "metadata": {},
      "source": [
        "## Peak Power\n\nIt may also be informative to view the quality of the signal at a finer\ntime resolution. The Peak Power metric provides a quality metric evalauted\nover a 10 second window. This allows the user to view instances where\na subset of channels may be contaminated by artifacts for a short duration\nof the recording.\n\n"
      ]
    },
    {
      "cell_type": "code",
      "execution_count": null,
      "metadata": {
        "collapsed": false
      },
      "outputs": [],
      "source": [
        "raw_od, scores, times = peak_power(raw_od, time_window=10)\nplot_timechannel_quality_metric(raw_od, scores, times, threshold=0.1,\n                                title=\"Peak Power Quality Evaluation\")"
      ]
    },
    {
      "cell_type": "markdown",
      "metadata": {},
      "source": [
        "## Introduced Noise\n\nThe above data is quite clean, so here we add some noise to channels to\ndemonstrate that the algorithm is able to detect bad segments of data.\nWe add a step like signal at two time instances to mimic an artifact.\nWe add one artifact to channel S2-D4 at 1000 seconds\nand one artifact to channel S5-D13 at 2000 seconds.\n\n"
      ]
    },
    {
      "cell_type": "code",
      "execution_count": null,
      "metadata": {
        "collapsed": false
      },
      "outputs": [],
      "source": [
        "# Add an artifact to channel S2-D4 at time 1000 seconds\nraw_od._data[12, 4000:4080] = np.linspace(0, -0.5, 80) + raw_od._data[12, 4000]\n\n# Add an artifact to channel S5-D13 at time 2000 seconds\nraw_od._data[34, 8000:8080] = np.linspace(0, 0.5, 80) + raw_od._data[34, 8000]"
      ]
    },
    {
      "cell_type": "markdown",
      "metadata": {},
      "source": [
        "Next we plot just these channels to demonstrate that indeed an artifact\nhas been added.\n\n"
      ]
    },
    {
      "cell_type": "code",
      "execution_count": null,
      "metadata": {
        "collapsed": false
      },
      "outputs": [],
      "source": [
        "raw_od.copy().pick(picks=[12, 13, 34, 35]).\\\n    plot(n_channels=55, duration=40000, show_scrollbars=False,\n         clipping=None, scalings={'fnirs_od': 0.2})"
      ]
    },
    {
      "cell_type": "markdown",
      "metadata": {},
      "source": [
        "## Peak Power Metric\n\nTo determine specific time and channel instances where data is of low\nquality the peak power metric can be utilise (Pollonini, 2016).\nBelow the peak power is calculated and displayed for all channels.\nThe default threshold of 0.1 is applied to the quality scores to determine\nbad segments of data.\nThe left facet illustrates the raw quality scores.\nThe right facet illustrates the channel and time segments that do not meet\nthe threshold criteria and are marked as bad.\n\n"
      ]
    },
    {
      "cell_type": "code",
      "execution_count": null,
      "metadata": {
        "collapsed": false
      },
      "outputs": [],
      "source": [
        "raw_od, scores, times = peak_power(raw_od, time_window=10)\nplot_timechannel_quality_metric(raw_od, scores, times, threshold=0.1)"
      ]
    },
    {
      "cell_type": "markdown",
      "metadata": {},
      "source": [
        "## Annotations\n\nSimilar to how entire channels were marked as bad above, the peak power\nfunction annotates the raw data structure to indicate where the bad\nsegments of data are. If we replot the subset of channels as above we note\nthat the bad segments are marked in red now, indicating this time section\ncontained bad data.\nNote that although the red line appears as if the bad marking is present\nfor all channels, this is due to the plotting code. Internally the software\nknows that only certain channels had a bad segment, and downstream processing\nwill only treat the specified bad channels as bad. I.e. when generating\nepochs for time 1000 s, no epochs would be generated for channel S2-D4, but\nchannels would be generated for S5-D13 (as the artifact was only present\non S2-D4).\n\n"
      ]
    },
    {
      "cell_type": "code",
      "execution_count": null,
      "metadata": {
        "collapsed": false
      },
      "outputs": [],
      "source": [
        "raw_od.copy().pick(picks=[12, 13, 34, 35]).\\\n    plot(n_channels=55, duration=40000, show_scrollbars=False,\n         clipping=None, scalings={'fnirs_od': 0.2})"
      ]
    },
    {
      "cell_type": "markdown",
      "metadata": {},
      "source": [
        "These channel and time specific annotations are used by downstream\nprocessing. For example, when extracting epochs if a specific channel\nhas an annotation indicating a bad segment in a specific time window, then\nthe epochs will be discarded for that specific channel.\nFinally, we display the entire time signal after both channel and time\nspecific quality evaluation. Note that bad channels are now greyed out\nand bad time segments are marked in red.\n\n"
      ]
    },
    {
      "cell_type": "code",
      "execution_count": null,
      "metadata": {
        "collapsed": false
      },
      "outputs": [],
      "source": [
        "raw_od.plot(n_channels=55, duration=4000, show_scrollbars=False, clipping=None)"
      ]
    },
    {
      "cell_type": "markdown",
      "metadata": {},
      "source": [
        "## Conclusion\n\nTwo data quality metrics were presented and plotted.\nOne metric for determining a bad channel (scalp coupling index).\nAnd one metric for determining specific time and channel segments that are\nbad.\nIt was demonstrated how bad segments are visualised and how bad segments\nare treated in downstream analysis.\n\n"
      ]
    }
  ],
  "metadata": {
    "kernelspec": {
      "display_name": "Python 3",
      "language": "python",
      "name": "python3"
    },
    "language_info": {
      "codemirror_mode": {
        "name": "ipython",
        "version": 3
      },
      "file_extension": ".py",
      "mimetype": "text/x-python",
      "name": "python",
      "nbconvert_exporter": "python",
      "pygments_lexer": "ipython3",
      "version": "3.8.0"
    }
  },
  "nbformat": 4,
  "nbformat_minor": 0
}