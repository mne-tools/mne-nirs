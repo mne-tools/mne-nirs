{
  "cells": [
    {
      "cell_type": "code",
      "execution_count": null,
      "metadata": {
        "collapsed": false
      },
      "outputs": [],
      "source": [
        "%matplotlib inline"
      ]
    },
    {
      "cell_type": "markdown",
      "metadata": {},
      "source": [
        "\n\n# Mayer Wave Parametrisation\n\n.. sidebar:: Cite the FOOOF authors\n\n   This tutorial is only possible due to the excellent and generous work of\n   the FOOOF authors. Please visit their site https://fooof-tools.github.io/fooof.\n   Also be sure to cite their various papers:\n\n   Donoghue, Thomas, et al. \"Parameterizing neural power spectra into periodic and aperiodic components.\" Nature neuroscience 23.12 (2020): 1655-1665.\n\n   Donoghue, Thomas, Julio Dominguez, and Bradley Voytek. \"Electrophysiological frequency band ratio measures conflate periodic and aperiodic neural activity.\" Eneuro 7.6 (2020).\n\nMayer waves are spontaneous oscillations in arterial blood pressure with a\nfrequency of ~0.1 Hz (Ghali and Ghali, 2020; Julien, 2006; Yucel, 2016).\nMayer waves are not easily removed from hemodynamic signatures of brain\nactivity as they tend to occur on a time course often confounded with\nthe frequency of a sensory task, for example, and/or the\ncortical hemodynamic response to that task.\n\nThis example demonstrates how to use the\nFitting Oscillations & One Over F (FOOOF)\n:footcite:`donoghue2020parameterizing`\nmethod to quanitfy Mayer wave parameters in fNIRS data.\nThis is based on the description provided in\n:footcite:`luke2021characterization`.\n\nThis tutorial is heavily based on the tutorials provided by the FOOOF\nauthors over at https://fooof-tools.github.io/fooof.\nYou should read their excellent documentation. Their work should be considered\nthe primary resource, and this is just an example of how to apply it to fNIRS\ndata for the purpose of extracting Mayer waves oscillation parameters.\n   :depth: 2\n"
      ]
    },
    {
      "cell_type": "code",
      "execution_count": null,
      "metadata": {
        "collapsed": false
      },
      "outputs": [],
      "source": [
        "# Authors: Robert Luke <mail@robertluke.net>\n#\n# License: BSD (3-clause)\n\nimport os\nimport mne\nimport numpy as np\nimport matplotlib.pyplot as plt\n\nfrom mne.preprocessing.nirs import optical_density, beer_lambert_law\nfrom mne.time_frequency import psd_welch\n\nfrom mne_nirs.channels import get_long_channels\nfrom mne_nirs.preprocessing import quantify_mayer_fooof\n\nfrom fooof import FOOOF"
      ]
    },
    {
      "cell_type": "markdown",
      "metadata": {},
      "source": [
        "## Import and preprocess data\n\nWe read in the data and convert to haemoglobin concentration.\n\n"
      ]
    },
    {
      "cell_type": "code",
      "execution_count": null,
      "metadata": {
        "collapsed": false
      },
      "outputs": [],
      "source": [
        "fnirs_data_folder = mne.datasets.fnirs_motor.data_path()\nfnirs_raw_dir = os.path.join(fnirs_data_folder, 'Participant-1')\nraw = mne.io.read_raw_nirx(fnirs_raw_dir, verbose=True).load_data()\n\nraw = optical_density(raw)\nraw.resample(2)\nraw = beer_lambert_law(raw, ppf=0.1)\nraw = raw.pick(picks=\"hbo\")\nraw = get_long_channels(raw, min_dist=0.025, max_dist=0.045)\nraw"
      ]
    },
    {
      "cell_type": "markdown",
      "metadata": {},
      "source": [
        "## Process data with FOOOF\n\nNext we estimate the power spectral density of the data and pass this to\nthe FOOOF algorithm.\n\nI recommend using the FOOOF algorithm as provided by the authors rather\nthan reimplementation or custom plotting etc. Their code is of excellent\nquality, well maintained, thoroughly documented, and they have considered\nmany edge cases.\n\nBelow we plot the spectrum of the data, the FOOOF fit of oscillations,\nand aperiodic component. Note the bump at 0.1 Hz that reflects the Mayer\nwave activity.\n\nNote that the activity is not a perfect peak at 0.1 Hz, but is spread\nacross neighbouring frequencies. Additionally, the peak does not occur\nat exactly 0.1 Hz, but instead seems to peak at approximately 0.09 Hz.\nThe shaded area illustrates the oscillation fitted by the FOOOF algorithm,\nit matches well to the data.\n\n"
      ]
    },
    {
      "cell_type": "code",
      "execution_count": null,
      "metadata": {
        "collapsed": false
      },
      "outputs": [],
      "source": [
        "def scale_up_spectra(spectra, freqs):\n    \"\"\"\n    FOOOF requires the frequency values to be higher than the fNIRS data\n    permits, so we scale the values up by 10 here, and then will scale\n    the frequency values down by 10 later.\n    \"\"\"\n    freqs = freqs * 10\n    return spectra, freqs\n\n# Prepare data for FOOOF\nspectra, freqs = psd_welch(raw, fmin=0.001, fmax=1.0, tmin=0, tmax=None, n_overlap=300, n_fft=600)\nspectra, freqs = scale_up_spectra(spectra, freqs)\n\n# Specify the model, note that frequency values here are times 10\nfm = FOOOF(peak_width_limits=(0.5, 12.0))\n# Set the frequency range to fit the model, again these are times 10\nfreq_range = [0.001, 7]\n\nfm.fit(freqs, np.mean(spectra, axis=0), freq_range)\n\nfig, axs = plt.subplots(1, 1, figsize=(10, 5))\nfm.plot(plot_peaks='shade', data_kwargs={'color': 'orange'}, ax=axs)\n# Correct for x10 scaling above\nplt.xticks([0, 1, 2, 3, 4, 5, 6], [0.0, 0.1, 0.2, 0.3, 0.4, 0.5, 0.6]);"
      ]
    },
    {
      "cell_type": "markdown",
      "metadata": {},
      "source": [
        "## Use MNE-NIRS to quantify Mayer wave oscillation\n\nMNE-NIRS provides a convenient function to estimate the Mayer wave\nparameters that takes care of the frequency scaling and selects the component\nmost likely associated with the Mayer wave. It returns this data in a pandas\ndataframe for your convenience.\nIt uses the FOOOF algorithm under the hood, so ensure you cite the original\nauthors if you use this function.\n\n"
      ]
    },
    {
      "cell_type": "code",
      "execution_count": null,
      "metadata": {
        "collapsed": false
      },
      "outputs": [],
      "source": [
        "quantify_mayer_fooof(raw.pick(\"hbo\"), extra_df_fields={\"Study\": \"Online tutorial\"})"
      ]
    },
    {
      "cell_type": "markdown",
      "metadata": {},
      "source": [
        "## Conclusion\n\nWe have demonstrated how to use the FOOOF algorithm for quantifying Mayer\nwave parameters, and highlighted the `quantify_mayer_fooof` for conveniently\napplying this analysis to fNIRS data with MNE-NIRS.\n\nAn example measurement illustrated what the presence of a Mayer wave\nlooks like with a power spectral density. The measurement also illustrated that the Mayer wave\nis not a perfect sinusoid, as evidenced by the broad spectral content.\nFurther, the example illustrated that the Mayer wave is not always precisely locked\nto 0.1 Hz, both visual inspection and FOOOF quantification indicate a 0.09 Hz\ncentre frequency.\n\nSee the article Luke (2021) :footcite:`luke2021characterization` for further\ndetails on this analysis approach, and normative data from over 300 fNIRS\nmeasurements. This article also demonstrates that using short-channel\nsystemic component correction algorithms can reduce the Mayer wave component\nin the signal (see also Yucel 2016).\nSee both the\n`GLM tutorial <tut-fnirs-hrf>`\nand\n`signal enhancement tutorial <tut-fnirs-enhance>`\nfor how to use short channels in either a GLM or averaging analysis with MNE-NIRS.\n\n"
      ]
    },
    {
      "cell_type": "markdown",
      "metadata": {},
      "source": [
        "## Bibliography\n\n.. footbibliography::\n\n"
      ]
    }
  ],
  "metadata": {
    "kernelspec": {
      "display_name": "Python 3",
      "language": "python",
      "name": "python3"
    },
    "language_info": {
      "codemirror_mode": {
        "name": "ipython",
        "version": 3
      },
      "file_extension": ".py",
      "mimetype": "text/x-python",
      "name": "python",
      "nbconvert_exporter": "python",
      "pygments_lexer": "ipython3",
      "version": "3.8.0"
    }
  },
  "nbformat": 4,
  "nbformat_minor": 0
}